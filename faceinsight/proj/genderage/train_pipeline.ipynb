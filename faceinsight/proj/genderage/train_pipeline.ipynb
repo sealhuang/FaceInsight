{
 "cells": [
  {
   "cell_type": "markdown",
   "metadata": {
    "colab_type": "text",
    "id": "Cdh-Hq53eV4a"
   },
   "source": [
    "# Reading Face - Gender and Expression"
   ]
  },
  {
   "cell_type": "code",
   "execution_count": 1,
   "metadata": {
    "colab": {},
    "colab_type": "code",
    "id": "9LeqVoEmeepQ"
   },
   "outputs": [],
   "source": [
    "import os\n",
    "from time import time\n",
    "\n",
    "import numpy as np\n",
    "import pandas as pd\n",
    "import cv2 \n",
    "from PIL import Image\n",
    "from scipy import io\n",
    "\n",
    "import torch\n",
    "from torch import nn, optim\n",
    "from torch.utils.data import Dataset\n",
    "from torchvision import  datasets, transforms, models, get_image_backend\n",
    "from torchvision.transforms import Compose\n",
    "from torch.utils.data import SubsetRandomSampler, DataLoader, Dataset\n",
    "\n",
    "from sklearn.preprocessing import LabelEncoder\n",
    "#from sklearn.preprocessing import OneHotEncoder\n",
    "from sklearn.metrics import confusion_matrix\n",
    "from sklearn.utils.multiclass import unique_labels\n",
    "\n",
    "from matplotlib import pyplot as plt"
   ]
  },
  {
   "cell_type": "markdown",
   "metadata": {},
   "source": [
    "## Dataset"
   ]
  },
  {
   "cell_type": "code",
   "execution_count": 2,
   "metadata": {},
   "outputs": [],
   "source": [
    "DOWNLOAD_DATA=False"
   ]
  },
  {
   "cell_type": "markdown",
   "metadata": {},
   "source": [
    "### Label Encoder"
   ]
  },
  {
   "cell_type": "code",
   "execution_count": 3,
   "metadata": {},
   "outputs": [],
   "source": [
    "def one_hot_encoder(data, words=True):  \n",
    "    values = np.array(data)  \n",
    "    if words:\n",
    "        label_encoder = LabelEncoder()\n",
    "        integer_encoded = label_encoder.fit_transform(values) \n",
    "    else:\n",
    "        integer_encoded = values\n",
    "    \n",
    "    #onehot_encoder = OneHotEncoder(sparse=False)\n",
    "    #onehot_encoded = onehot_encoder.fit_transform(integer_encoded)\n",
    "    integer_encoded = integer_encoded.reshape(len(integer_encoded), 1)\n",
    "    \n",
    "    return integer_encoded"
   ]
  },
  {
   "cell_type": "markdown",
   "metadata": {
    "colab_type": "text",
    "id": "fzfrJHqYgSPr"
   },
   "source": [
    "### IMDB"
   ]
  },
  {
   "cell_type": "markdown",
   "metadata": {
    "colab_type": "text",
    "id": "9_F0dwKpgWjK"
   },
   "source": [
    "**Download And Extract**"
   ]
  },
  {
   "cell_type": "code",
   "execution_count": 4,
   "metadata": {
    "colab": {
     "base_uri": "https://localhost:8080/",
     "height": 406
    },
    "colab_type": "code",
    "id": "aCqtoQWIgOwr",
    "outputId": "70507dcd-cec4-4f7d-b6b5-9cd07b531727"
   },
   "outputs": [],
   "source": [
    "if DOWNLOAD_DATA:\n",
    "    \"\"\" Download \"\"\"\n",
    "    !wget https://data.vision.ee.ethz.ch/cvl/rrothe/imdb-wiki/static/imdb_meta.tar\n",
    "    !wget https://data.vision.ee.ethz.ch/cvl/rrothe/imdb-wiki/static/imdb_crop.tar\n",
    "\n",
    "    \"\"\" Extract \"\"\"\n",
    "    !tar -xf imdb_meta.tar\n",
    "    !tar -xf imdb_crop.tar"
   ]
  },
  {
   "cell_type": "markdown",
   "metadata": {
    "colab_type": "text",
    "id": "C0A1Jqz2iPv7"
   },
   "source": [
    "**IMDB Class**"
   ]
  },
  {
   "cell_type": "code",
   "execution_count": 5,
   "metadata": {
    "colab": {},
    "colab_type": "code",
    "id": "6VFxqqUsfqd6"
   },
   "outputs": [],
   "source": [
    "class IMDB(object):\n",
    "    \"\"\"\n",
    "    1.0 MALE\n",
    "    0.0 FEMALE\n",
    "    \"\"\"\n",
    "    def __init__(self, path):  \n",
    "        self.images_paths = []\n",
    "        self.labels = []\n",
    "        self.collector(path)\n",
    "        self.labels = one_hot_encoder(self.labels, words=False)\n",
    "    \n",
    "    def collector(self, paths):\n",
    "        imdb, images_data_path = paths\n",
    "        imdb = io.loadmat(imdb)\n",
    "        labels = imdb['imdb'][0][0][3][0]\n",
    "        images_paths = imdb['imdb'][0][0][2][0]\n",
    "        for i in range(len(images_paths)):\n",
    "            images_paths[i] = os.path.join(images_data_path, images_paths[i][0])\n",
    "\n",
    "        for i in range(len(labels)):\n",
    "            if labels[i] in [0, 1] and os.path.isfile(images_paths[i]) :\n",
    "              self.labels.append(labels[i])\n",
    "              self.images_paths.append(images_paths[i])\n"
   ]
  },
  {
   "cell_type": "code",
   "execution_count": 6,
   "metadata": {
    "colab": {
     "base_uri": "https://localhost:8080/",
     "height": 50
    },
    "colab_type": "code",
    "id": "JxMT9KcqnBUm",
    "outputId": "0254c0f0-e639-4b5c-d8ac-82c128a65295"
   },
   "outputs": [
    {
     "name": "stdout",
     "output_type": "stream",
     "text": [
      "No. Images 452261\n",
      "No. labels 452261\n"
     ]
    }
   ],
   "source": [
    "imdb = IMDB([\"/home/huanglj/database/IMDB/imdb.mat\", \"/home/huanglj/database/IMDB/imdb_crop\"])\n",
    "print(\"No. Images {}\".format(len(imdb.images_paths)))\n",
    "print(\"No. labels {}\".format(len(imdb.labels)))"
   ]
  },
  {
   "cell_type": "markdown",
   "metadata": {
    "colab_type": "text",
    "id": "jQhepMerijla"
   },
   "source": [
    "### IMFDB - Unavailable"
   ]
  },
  {
   "cell_type": "markdown",
   "metadata": {
    "colab_type": "text",
    "id": "fP46-JESirCF"
   },
   "source": [
    "**Download And Extract**"
   ]
  },
  {
   "cell_type": "code",
   "execution_count": null,
   "metadata": {
    "colab": {},
    "colab_type": "code",
    "id": "-eY-yAS_ioyq"
   },
   "outputs": [],
   "source": [
    "if DOWNLOAD_DATA:\n",
    "    \"\"\" Download \"\"\"\n",
    "    !wget http://cdn.iiit.ac.in/cdn/cvit.iiit.ac.in/projects/IMFDB/IMFDB_final.zip\n",
    "\n",
    "    \"\"\" Extract \"\"\"\n",
    "    !unzip IMFDB_final.zip"
   ]
  },
  {
   "cell_type": "markdown",
   "metadata": {
    "colab_type": "text",
    "id": "ur8p-4wtisWs"
   },
   "source": [
    "**IMFDB Class**"
   ]
  },
  {
   "cell_type": "code",
   "execution_count": null,
   "metadata": {
    "colab": {},
    "colab_type": "code",
    "id": "ftqRsCSE-sTj"
   },
   "outputs": [],
   "source": [
    "class IMFDB(object):\n",
    "    def __init__(self, path):\n",
    "        self.t = []\n",
    "        self.images_paths = []\n",
    "        self.labels = {'Expressions':[],'Illumination':[],'Pose':[],'Occlusion':[],'Age':[],'Makeup':[],'Gender':[]}\n",
    "        self.labels_info = {\n",
    "            'Expressions': [\n",
    "                'ANGER',\n",
    "                'DISGUST',\n",
    "                'FEAR',\n",
    "                'HAPPINESS',\n",
    "                'NEUTRAL',\n",
    "                'SADNESS',\n",
    "                'SURPRISE',\n",
    "            ],\n",
    "            'Illumination': [\n",
    "                'BAD',\n",
    "                'HIGH',\n",
    "                'MEDIUM',\n",
    "            ],\n",
    "            'Pose': [\n",
    "                'DOWN',\n",
    "                'FRONTAL',\n",
    "                'LEFT',\n",
    "                'RIGHT',\n",
    "                'UP',\n",
    "            ],\n",
    "            'Occlusion': [\n",
    "                'BEARD',\n",
    "                'GLASSES',\n",
    "                'HAIR',\n",
    "                'HAND',\n",
    "                'NONE',\n",
    "                'ORNAMENTS',\n",
    "                'OTHERS',\n",
    "            ],\n",
    "            'Age': [\n",
    "                'CHILD',\n",
    "                'MIDDLE',\n",
    "                'OLD',\n",
    "                'YOUNG',\n",
    "            ],\n",
    "            'Makeup': [\n",
    "                'OVER',\n",
    "                'PARTIAL',\n",
    "            ],\n",
    "            'Gender': [\n",
    "                \"Male\" \n",
    "                'Female',\n",
    "            ]\n",
    "        }\n",
    "        \n",
    "        self.collect_data(path)\n",
    "        self.one_hot_encoder()\n",
    "        \n",
    "    def collect_data(self, path):\n",
    "        if not os.path.isdir(path):\n",
    "            return\n",
    "        if 'images' in os.listdir(path):\n",
    "            if  len([t for t in os.listdir(path) if '.txt' in t]) == 1:\n",
    "                self.collector(path)\n",
    "            return\n",
    "        for dir in os.listdir(path):\n",
    "            self.collect_data(os.path.join(path,dir))\n",
    "        return (self.images_paths, self.labels)\n",
    "\n",
    "    def collector(self, path):\n",
    "        x = [x for x in os.listdir(path) if '.txt' in x]\n",
    "        file_path = os.path.join(path ,x[0])\n",
    "        with open(file_path, 'r') as file:\n",
    "           \n",
    "            data = file.readlines()\n",
    "            for f in data:\n",
    "                f = f.split('\\t')[:-1]\n",
    "                f = [x.strip() for x in f]\n",
    "                \n",
    "                if len(f) != 17:\n",
    "                    continue\n",
    "                \n",
    "                image_name = f[2]\n",
    "\n",
    "                if len(image_name) < 1 :\n",
    "                    continue    \n",
    "                \n",
    "                image_path = os.path.join(path,'images' , image_name)\n",
    "                \n",
    "                if not os.path.isfile(image_path):\n",
    "                    continue\n",
    "                    \n",
    "                self.images_paths.append(image_path)\n",
    "                self.labels['Makeup'].append(f[-1])\n",
    "                self.labels['Pose'].append(f[-2])\n",
    "                self.labels['Age'].append(f[-3])\n",
    "                self.labels['Illumination'].append(f[-4])\n",
    "                self.labels['Occlusion'].append(f[-5])\n",
    "                self.labels['Expressions'].append(f[-6])\n",
    "                self.labels['Gender'].append(f[-7])\n",
    "               \n",
    "    def one_hot_encoder(self):\n",
    "      \n",
    "        self.labels[\"Makeup\"] = one_hot_encoder(self.labels[\"Makeup\"])\n",
    "        self.labels[\"Pose\"] = one_hot_encoder(self.labels[\"Pose\"])\n",
    "        self.labels[\"Age\"] = one_hot_encoder(self.labels[\"Age\"])\n",
    "        self.labels[\"Illumination\"] = one_hot_encoder(self.labels[\"Illumination\"])\n",
    "        self.labels[\"Occlusion\"] = one_hot_encoder(self.labels[\"Occlusion\"])\n",
    "        self.labels[\"Expressions\"] = one_hot_encoder(self.labels[\"Expressions\"])\n",
    "        self.labels[\"Gender\"] = one_hot_encoder(self.labels[\"Gender\"])\n",
    "      \n",
    "    "
   ]
  },
  {
   "cell_type": "code",
   "execution_count": null,
   "metadata": {
    "colab": {
     "base_uri": "https://localhost:8080/",
     "height": 168
    },
    "colab_type": "code",
    "id": "DYSOR-4coXoF",
    "outputId": "146b55aa-101b-434e-f62f-522498317624"
   },
   "outputs": [],
   "source": [
    "imfdb = IMFDB('/content/IMFDB_final')\n",
    "print(\"No. Images {}\".format(len(imfdb.images_paths)))\n",
    "print(\"No. Models {}\".format(len(imfdb.labels)))\n",
    "print(\"No. Makeup labels {}\".format(len(imfdb.labels[\"Makeup\"])))\n",
    "print(\"No. Pose labels {}\".format(len(imfdb.labels[\"Pose\"])))\n",
    "print(\"No. Age labels {}\".format(len(imfdb.labels[\"Age\"])))\n",
    "print(\"No. Illumination labels {}\".format(len(imfdb.labels[\"Illumination\"])))\n",
    "print(\"No. Occlusion labels {}\".format(len(imfdb.labels[\"Occlusion\"])))\n",
    "print(\"No. Expressions labels {}\".format(len(imfdb.labels[\"Expressions\"])))\n",
    "print(\"No. Gender labels {}\".format(len(imfdb.labels[\"Gender\"])))"
   ]
  },
  {
   "cell_type": "markdown",
   "metadata": {
    "colab_type": "text",
    "id": "wqoga6Vuiw9t"
   },
   "source": [
    "### WIKI"
   ]
  },
  {
   "cell_type": "markdown",
   "metadata": {
    "colab_type": "text",
    "id": "_9Blqg8zizsb"
   },
   "source": [
    "**Download And Extract**"
   ]
  },
  {
   "cell_type": "code",
   "execution_count": 7,
   "metadata": {
    "colab": {
     "base_uri": "https://localhost:8080/",
     "height": 202
    },
    "colab_type": "code",
    "id": "YlwXSCSAiy2V",
    "outputId": "538f8248-4f4a-4a88-933b-a3d6f8381774"
   },
   "outputs": [],
   "source": [
    "if DOWNLOAD_DATA:\n",
    "    \"\"\" Download \"\"\"\n",
    "    !wget https://data.vision.ee.ethz.ch/cvl/rrothe/imdb-wiki/static/wiki_crop.tar\n",
    "  \n",
    "    \"\"\" Extract \"\"\"\n",
    "    !tar -xf wiki_crop.tar"
   ]
  },
  {
   "cell_type": "markdown",
   "metadata": {
    "colab_type": "text",
    "id": "BSreswU-i2x-"
   },
   "source": [
    "**WIKI Class**"
   ]
  },
  {
   "cell_type": "code",
   "execution_count": 8,
   "metadata": {
    "colab": {},
    "colab_type": "code",
    "id": "DFku_1Y_jBLj"
   },
   "outputs": [],
   "source": [
    "class WIKI(object):\n",
    "    \"\"\"\n",
    "    1.0 MALE\n",
    "    0.0 FEMALE\n",
    "    \"\"\"\n",
    "    def __init__(self, path):  \n",
    "        self.images_paths = []\n",
    "        self.labels = []\n",
    "        self.collector(path)\n",
    "        self.labels = one_hot_encoder(self.labels, words=False)\n",
    "\n",
    "    def collector(self, paths):\n",
    "        imdb, images_data_path = paths\n",
    "        imdb = io.loadmat(imdb)\n",
    "        labels = imdb['wiki'][0][0][3][0]\n",
    "        images_paths = imdb['wiki'][0][0][2][0]\n",
    "        for i in range(len(images_paths)):\n",
    "            images_paths[i] = os.path.join(images_data_path, images_paths[i][0])\n",
    "\n",
    "        for i in range(len(labels)):\n",
    "            if labels[i] in [0, 1] and os.path.isfile(images_paths[i]) :\n",
    "              self.labels.append(labels[i])\n",
    "              self.images_paths.append(images_paths[i])\n"
   ]
  },
  {
   "cell_type": "code",
   "execution_count": 9,
   "metadata": {
    "colab": {
     "base_uri": "https://localhost:8080/",
     "height": 50
    },
    "colab_type": "code",
    "id": "6so_IXlmmrQg",
    "outputId": "1b1ad609-0302-4dc1-95c0-e57b7d0c4eb6"
   },
   "outputs": [
    {
     "name": "stdout",
     "output_type": "stream",
     "text": [
      "No. Images 59685\n",
      "No. labels 59685\n"
     ]
    }
   ],
   "source": [
    "wiki = WIKI([\"/home/huanglj/database/wiki_crop/wiki.mat\", \"/home/huanglj/database/wiki_crop\"])\n",
    "print(\"No. Images {}\".format(len(wiki.images_paths)))\n",
    "print(\"No. labels {}\".format(len(wiki.labels)))"
   ]
  },
  {
   "cell_type": "markdown",
   "metadata": {
    "colab_type": "text",
    "id": "OCLd67oaqDIE"
   },
   "source": [
    "### JAFFE"
   ]
  },
  {
   "cell_type": "markdown",
   "metadata": {
    "colab_type": "text",
    "id": "beIAQSDDqnmZ"
   },
   "source": [
    "**Download And Extract**"
   ]
  },
  {
   "cell_type": "code",
   "execution_count": 10,
   "metadata": {
    "colab": {},
    "colab_type": "code",
    "id": "nLOrrTx4o-q6"
   },
   "outputs": [],
   "source": [
    "if DOWNLOAD_DATA:\n",
    "    \"\"\" Download \"\"\"\n",
    "    !wget http://www.kasrl.org/jaffedbase.zip\n",
    "  \n",
    "    \"\"\" Extract \"\"\"\n",
    "    !unzip jaffedbase.zip"
   ]
  },
  {
   "cell_type": "markdown",
   "metadata": {
    "colab_type": "text",
    "id": "7jJrR4ioqs92"
   },
   "source": [
    "**JAFFE Class**"
   ]
  },
  {
   "cell_type": "code",
   "execution_count": 11,
   "metadata": {
    "colab": {},
    "colab_type": "code",
    "id": "_GB3Ed8Fq2p2"
   },
   "outputs": [],
   "source": [
    "class JAFFE(object):\n",
    "    def __init__(self, path):\n",
    "      \n",
    "        self.images_paths = []\n",
    "        self.labels = []\n",
    "        self.collector(path)\n",
    "        self.labels = one_hot_encoder(self.labels)\n",
    "        \n",
    "    def collector(self, path):\n",
    " \n",
    "        for img in os.listdir(path):\n",
    "          \n",
    "            if len(img.split('.')) != 4:\n",
    "                continue\n",
    "          \n",
    "            if img.split('.')[1][:-1] == \"AN\":\n",
    "                self.labels.append(\"ANGER\")\n",
    "            elif img.split('.')[1][:-1] == \"DI\":\n",
    "                self.labels.append(\"DISGUST\")\n",
    "            elif img.split('.')[1][:-1] == \"FE\":\n",
    "                self.labels.append(\"FEAR\")\n",
    "            elif img.split('.')[1][:-1] == \"HA\":\n",
    "                self.labels.append(\"HAPPINESS\")\n",
    "            elif img.split('.')[1][:-1] == \"NE\":\n",
    "                 self.labels.append(\"NEUTRAL\")\n",
    "            elif img.split('.')[1][:-1] == \"SA\":\n",
    "                 self.labels.append(\"SADNESS\")\n",
    "            elif img.split('.')[1][:-1] == \"SU\":\n",
    "                 self.labels.append(\"SURPRISE\")\n",
    "            self.images_paths.append(os.path.join(path,img))   "
   ]
  },
  {
   "cell_type": "code",
   "execution_count": 12,
   "metadata": {
    "colab": {},
    "colab_type": "code",
    "id": "BPlFfqo2wW1D"
   },
   "outputs": [
    {
     "name": "stdout",
     "output_type": "stream",
     "text": [
      "No. Images 213\n",
      "No. labels 213\n"
     ]
    }
   ],
   "source": [
    "jaffe = JAFFE('/home/huanglj/database/jaffedbase')\n",
    "print(\"No. Images {}\".format(len(jaffe.images_paths)))\n",
    "print(\"No. labels {}\".format(len(jaffe.labels)))"
   ]
  },
  {
   "cell_type": "markdown",
   "metadata": {
    "colab_type": "text",
    "id": "8snn8-n96YUF"
   },
   "source": [
    "### FER"
   ]
  },
  {
   "cell_type": "code",
   "execution_count": 13,
   "metadata": {
    "colab": {},
    "colab_type": "code",
    "id": "QWVq96-QtTb3"
   },
   "outputs": [],
   "source": [
    "if DOWNLOAD_DATA:\n",
    "    !tar -xf \"/content/drive/My Drive/data/fer2013.tar.gz\""
   ]
  },
  {
   "cell_type": "code",
   "execution_count": 14,
   "metadata": {
    "colab": {},
    "colab_type": "code",
    "id": "YNlh8xSQ6ypS"
   },
   "outputs": [],
   "source": [
    "def preprocess_input(x, v2=True):\n",
    "    x = x.astype('float32')\n",
    "    x = x / 255.0\n",
    "    if v2:\n",
    "        x = x - 0.5\n",
    "        x = x * 2.0\n",
    "    return x\n",
    "\n",
    "\n",
    "class FER(object):\n",
    "    def __init__(self, path):\n",
    "        self.images_paths = []\n",
    "        self.labels = []\n",
    "        self.collector(path)\n",
    "        self.labels = one_hot_encoder(self.labels)\n",
    "        \n",
    "    def collector(self, path):\n",
    "        data = pd.read_csv(path)\n",
    "        pixels = data['pixels'].tolist()\n",
    "        width, height = 48, 48\n",
    "        image_size = (width, height)\n",
    "        faces = []\n",
    "        for pixel_sequence in pixels:\n",
    "            face = [int(pixel) for pixel in pixel_sequence.split(' ')]\n",
    "            face = np.asarray(face).reshape(width, height)\n",
    "            face = cv2.resize(face.astype('uint8'), image_size)\n",
    "            faces.append(face.astype('float32'))\n",
    "        faces = np.asarray(faces)\n",
    "        faces = np.expand_dims(faces, -1)\n",
    "        emotions = pd.get_dummies(data['emotion']).values\n",
    "        emotions = np.argmax(emotions, axis=1).reshape(-1, 1)\n",
    "        for i in range(len(emotions)):\n",
    "            if emotions[i][0] == 4:\n",
    "                emotions[i][0] = np.array(5)\n",
    "            elif emotions[i][0] == 5:\n",
    "                emotions[i][0] = np.array(6)\n",
    "            elif emotions[i][0] == 6:\n",
    "                emotions[i][0] = np.array(4)\n",
    "        \n",
    "        #faces = preprocess_input(faces)\n",
    "        self.images_paths = faces\n",
    "        self.labels = emotions\n"
   ]
  },
  {
   "cell_type": "code",
   "execution_count": 15,
   "metadata": {
    "colab": {
     "base_uri": "https://localhost:8080/",
     "height": 121
    },
    "colab_type": "code",
    "id": "gHaDLsQz70QT",
    "outputId": "3b6cb778-9821-4451-d298-e2abb7e78742"
   },
   "outputs": [
    {
     "name": "stdout",
     "output_type": "stream",
     "text": [
      "No. Images 35887\n",
      "No. labels 35887\n"
     ]
    },
    {
     "name": "stderr",
     "output_type": "stream",
     "text": [
      "/home/huanglj/miniconda3/envs/py3-dl/lib/python3.7/site-packages/sklearn/preprocessing/label.py:235: DataConversionWarning: A column-vector y was passed when a 1d array was expected. Please change the shape of y to (n_samples, ), for example using ravel().\n",
      "  y = column_or_1d(y, warn=True)\n"
     ]
    }
   ],
   "source": [
    "fer = FER('/home/huanglj/database/fer2013/fer2013.csv')\n",
    "print(\"No. Images {}\".format(len(fer.images_paths)))\n",
    "print(\"No. labels {}\".format(len(fer.labels)))"
   ]
  },
  {
   "cell_type": "code",
   "execution_count": null,
   "metadata": {},
   "outputs": [],
   "source": []
  },
  {
   "cell_type": "markdown",
   "metadata": {
    "colab_type": "text",
    "id": "uwuKScWtaiD1"
   },
   "source": [
    "## Haar Cascades"
   ]
  },
  {
   "cell_type": "code",
   "execution_count": 16,
   "metadata": {
    "colab": {},
    "colab_type": "code",
    "id": "oncvG-mi4dV9"
   },
   "outputs": [],
   "source": [
    "detector = cv2.CascadeClassifier('/home/huanglj/repo/opencv-data/haarcascades/haarcascade_frontalface_alt2.xml')"
   ]
  },
  {
   "cell_type": "markdown",
   "metadata": {
    "colab_type": "text",
    "id": "SvwH4DL0jXtU"
   },
   "source": [
    "## DataLoader"
   ]
  },
  {
   "cell_type": "code",
   "execution_count": 17,
   "metadata": {
    "colab": {},
    "colab_type": "code",
    "id": "Cwa7yAxva0GG"
   },
   "outputs": [],
   "source": [
    "def pil_loader(path):\n",
    "    if type(path) == str:\n",
    "        with open(path, 'rb') as f:  \n",
    "            img = Image.open(f)\n",
    "            img = img.convert('RGB')\n",
    "    else:\n",
    "        img = path\n",
    "        img = np.array(img, dtype='uint8')\n",
    "        img = cv2.cvtColor(img, cv2.COLOR_GRAY2RGB)\n",
    "    img = np.array(img, dtype='uint8')\n",
    "    faces = detector.detectMultiScale(img, 1.3, 5)\n",
    "    # XXX: options based on face number\n",
    "    if len(faces) == 1:\n",
    "        (fX, fY, fW, fH) = faces[0]\n",
    "        face = img[fY:fY + fH, fX:fX + fW]\n",
    "    else:\n",
    "        face = img\n",
    "    face = cv2.resize(face, (64, 64))\n",
    "    return face\n",
    "\n",
    "def accimage_loader(path):\n",
    "    import accimage\n",
    "    try:\n",
    "        return accimage.Image(path)\n",
    "    except IOError:\n",
    "        return pil_loader(path)\n",
    "\n",
    "def default_loader(path):\n",
    "    if get_image_backend() == 'accimage':\n",
    "        return accimage_loader(path)\n",
    "    else:\n",
    "        return pil_loader(path)"
   ]
  },
  {
   "cell_type": "code",
   "execution_count": 18,
   "metadata": {
    "colab": {},
    "colab_type": "code",
    "id": "tIOnGrNy4jhe"
   },
   "outputs": [],
   "source": [
    "class ImageDataSets(Dataset):\n",
    "\n",
    "    def __init__(self, transform=None, image_loader=default_loader):\n",
    "        self.images_paths =[]\n",
    "        self.labels = []\n",
    "        self.loader = image_loader\n",
    "        self.transform = transform\n",
    "\n",
    "    def __len__(self):\n",
    "        return len(self.images_paths)\n",
    "\n",
    "    def __getitem__(self,indx):\n",
    "        image = self.loader(self.images_paths[indx])\n",
    "        label = self.labels[indx]\n",
    "        if self.transform:\n",
    "            image = self.transform(image)\n",
    "        return image,label"
   ]
  },
  {
   "cell_type": "markdown",
   "metadata": {
    "colab_type": "text",
    "id": "jUPUQq80jb6h"
   },
   "source": [
    "## Transformation"
   ]
  },
  {
   "cell_type": "code",
   "execution_count": 20,
   "metadata": {
    "colab": {
     "base_uri": "https://localhost:8080/",
     "height": 70
    },
    "colab_type": "code",
    "id": "GbVBJfzN0D8I",
    "outputId": "d69a970e-1c14-4f72-82e3-99d4f61296f3"
   },
   "outputs": [],
   "source": [
    "train_transforms = transforms.Compose([\n",
    "                                        transforms.ToPILImage(),\n",
    "                                        transforms.RandomRotation(10),\n",
    "                                        transforms.TenCrop((64,64)),\n",
    "                                        transforms.Lambda(lambda crops: torch.stack([transforms.ToTensor()(crop) for crop in crops]))\n",
    "                                      ])\n",
    "test_transforms = transforms.Compose([\n",
    "                                     transforms.ToPILImage(),\n",
    "                                     transforms.Resize((64,64)),\n",
    "                                     transforms.ToTensor(),\n",
    "                                     ])"
   ]
  },
  {
   "cell_type": "markdown",
   "metadata": {
    "colab_type": "text",
    "id": "9E9qgrrtkYg3"
   },
   "source": [
    "## Displaying Data"
   ]
  },
  {
   "cell_type": "code",
   "execution_count": 21,
   "metadata": {
    "colab": {},
    "colab_type": "code",
    "id": "ZluTXJiCcOOb"
   },
   "outputs": [],
   "source": [
    "def imshow(img):\n",
    "    \n",
    "    #img = ((img /2.)+0.5)*255.# 0.5 + 0.5  # unnormalize\n",
    "    plt.imshow(np.transpose(img, (1, 2, 0)))  # convert from Tensor image"
   ]
  },
  {
   "cell_type": "code",
   "execution_count": 44,
   "metadata": {
    "colab": {},
    "colab_type": "code",
    "id": "yCq0_H42kecw"
   },
   "outputs": [],
   "source": [
    "def displaying_data(dataiter, dic):\n",
    "    # obtain one batch of training images\n",
    "    images, labels = dataiter.next()\n",
    "    # convert images to numpy for display\n",
    "    images = images.numpy()\n",
    "    \n",
    "    # plot the images in the batch, along with the corresponding labels\n",
    "    fig = plt.figure(figsize=(25, 4))\n",
    "    # display 20 images\n",
    "    for idx in np.arange(20):\n",
    "        ax = fig.add_subplot(2, 20/2, idx+1, xticks=[], yticks=[])\n",
    "        try:\n",
    "            imshow(images[idx][0])\n",
    "        except:\n",
    "            imshow(images[idx])\n",
    "\n",
    "        ax.set_title(dic[int(labels[idx])])"
   ]
  },
  {
   "cell_type": "markdown",
   "metadata": {
    "colab_type": "text",
    "id": "yUVdo7pbkfbg"
   },
   "source": [
    "# Network Model"
   ]
  },
  {
   "cell_type": "markdown",
   "metadata": {
    "colab_type": "text",
    "id": "KSMwoKPjk8h_"
   },
   "source": [
    "## Model"
   ]
  },
  {
   "cell_type": "code",
   "execution_count": 23,
   "metadata": {
    "colab": {},
    "colab_type": "code",
    "id": "EozXcywa6Y0b"
   },
   "outputs": [],
   "source": [
    "class SeparableConv2d(nn.Module):\n",
    "    def __init__(self,in_channels,out_channels,kernel_size=1,stride=1,padding=0,dilation=1,bias=False):\n",
    "        super(SeparableConv2d,self).__init__()\n",
    "\n",
    "        self.conv1 = nn.Conv2d(in_channels,in_channels,kernel_size,stride,padding,dilation,groups=in_channels,bias=bias)\n",
    "        self.pointwise = nn.Conv2d(in_channels,out_channels,1,1,0,1,1,bias=bias)\n",
    "    \n",
    "    def forward(self,x):\n",
    "        x = self.conv1(x)\n",
    "        x = self.pointwise(x)\n",
    "        return x"
   ]
  },
  {
   "cell_type": "code",
   "execution_count": 24,
   "metadata": {
    "colab": {},
    "colab_type": "code",
    "id": "VGr4gYmR6boo"
   },
   "outputs": [],
   "source": [
    "class Block(nn.Module):\n",
    "    def __init__(self,in_filters,out_filters,reps,strides=2,start_with_relu=True,grow_first=True):\n",
    "        super(Block, self).__init__()\n",
    "\n",
    "        if out_filters != in_filters or strides!=1:\n",
    "            self.skip = nn.Conv2d(in_filters,out_filters,1,stride=strides, bias=False)\n",
    "            self.skipbn = nn.BatchNorm2d(out_filters)\n",
    "        else:\n",
    "            self.skip=None\n",
    "        \n",
    "        self.relu = nn.ReLU(inplace=True)\n",
    "        rep=[]\n",
    "\n",
    "        filters=in_filters\n",
    "        if grow_first:\n",
    "            rep.append(self.relu)\n",
    "            rep.append(SeparableConv2d(in_filters,out_filters,3,stride=1,padding=1,bias=False))\n",
    "            rep.append(nn.BatchNorm2d(out_filters))\n",
    "            filters = out_filters\n",
    "\n",
    "        for i in range(reps-1):\n",
    "            rep.append(self.relu)\n",
    "            rep.append(SeparableConv2d(filters,filters,3,stride=1,padding=1,bias=False))\n",
    "            rep.append(nn.BatchNorm2d(filters))\n",
    "        \n",
    "        if not grow_first:\n",
    "            rep.append(self.relu)\n",
    "            rep.append(SeparableConv2d(in_filters,out_filters,3,stride=1,padding=1,bias=False))\n",
    "            rep.append(nn.BatchNorm2d(out_filters))\n",
    "\n",
    "        if not start_with_relu:\n",
    "            rep = rep[1:]\n",
    "        else:\n",
    "            rep[0] = nn.ReLU(inplace=False)\n",
    "            \n",
    "        if strides != 1:\n",
    "            rep.append(nn.MaxPool2d(3,strides,1))\n",
    "        self.rep = nn.Sequential(*rep)\n",
    "        \n",
    "\n",
    "    def forward(self,inp):\n",
    "        x = self.rep(inp)\n",
    "\n",
    "        if self.skip is not None:\n",
    "            skip = self.skip(inp)\n",
    "            skip = self.skipbn(skip)\n",
    "        else:\n",
    "            skip = inp\n",
    "                            \n",
    "        x+=skip\n",
    "        \n",
    "        return x"
   ]
  },
  {
   "cell_type": "code",
   "execution_count": 25,
   "metadata": {
    "colab": {},
    "colab_type": "code",
    "id": "C4DX20MG6jrA"
   },
   "outputs": [],
   "source": [
    "class Feature_Extractor(nn.Module):\n",
    "    \n",
    "    def __init__(self):\n",
    "        super(Feature_Extractor, self).__init__()\n",
    "        \n",
    "        self.con2d_1 = nn.Conv2d(in_channels=3,out_channels=8,\n",
    "                                  kernel_size=(3, 3), stride=(1, 1), padding=0, bias=False)\n",
    "        self.bn_1 = nn.BatchNorm2d(8)\n",
    "        \n",
    "        self.con2d_2 = nn.Conv2d(in_channels=8,out_channels=8,\n",
    "                                  kernel_size=(3, 3), stride=(1, 1), padding=0, bias=False)\n",
    "        self.bn_2 = nn.BatchNorm2d(8)\n",
    "        self.block_1 = Block(in_filters=8, out_filters=16,reps=2)\n",
    "        self.block_2 = Block(in_filters=16, out_filters=32,reps=2)\n",
    "        self.block_3 = Block(in_filters=32, out_filters=64,reps=2)\n",
    "        self.block_4 = Block(in_filters=64, out_filters=128,reps=2)\n",
    "\n",
    "        self.relu = nn.ReLU()\n",
    "        \n",
    "    def forward(self, x):\n",
    "        \n",
    "        x = self.con2d_1(x)\n",
    "        x = self.bn_1(x)\n",
    "        x = self.relu(x)\n",
    "        \n",
    "        x = self.con2d_2(x)\n",
    "        x = self.bn_2(x)\n",
    "        x = self.relu(x)\n",
    "        \n",
    "        x = self.block_1(x)\n",
    "        x = self.block_2(x)\n",
    "        x = self.block_3(x)\n",
    "        x = self.block_4(x)\n",
    "        \n",
    "        return x"
   ]
  },
  {
   "cell_type": "code",
   "execution_count": 26,
   "metadata": {
    "colab": {},
    "colab_type": "code",
    "id": "IiUwBWi3k70v"
   },
   "outputs": [],
   "source": [
    "class Classifier(nn.Module):\n",
    "    \n",
    "    def __init__(self, num_classes):\n",
    "        super(Classifier, self).__init__()\n",
    "        \n",
    "        self.conv2d_f = nn.Conv2d(in_channels=128, out_channels=num_classes,\n",
    "                                  kernel_size=(3, 3), stride=(1, 1), padding=1)\n",
    "        self.glob_avg_bool = nn.AvgPool2d(kernel_size=(13, 13))\n",
    "        \n",
    "        self.softmax = nn.Softmax()\n",
    "\n",
    "        \n",
    "    def forward(self, x):\n",
    "        x = self.conv2d_f(x)\n",
    "        x = self.glob_avg_bool(x)\n",
    "#         x = self.softmax(x)\n",
    "        \n",
    "        return x"
   ]
  },
  {
   "cell_type": "code",
   "execution_count": 27,
   "metadata": {
    "colab": {},
    "colab_type": "code",
    "id": "Z3G0EYUeYOLk"
   },
   "outputs": [],
   "source": [
    "class Model(nn.Module):\n",
    "    \n",
    "    def __init__(self,num_classes):\n",
    "        super(Model, self).__init__()\n",
    "        \n",
    "        self.feature_extractor = Feature_Extractor()\n",
    "        self.classifier = Classifier(num_classes)\n",
    "    \n",
    "    def forward(self,x):\n",
    "        x = self.feature_extractor(x)\n",
    "        x = self.classifier(x)\n",
    "        \n",
    "        return x"
   ]
  },
  {
   "cell_type": "markdown",
   "metadata": {
    "colab_type": "text",
    "id": "E0YMgfPbwsdD"
   },
   "source": [
    "# Workers"
   ]
  },
  {
   "cell_type": "markdown",
   "metadata": {
    "colab_type": "text",
    "id": "oBhmiGn5wwpW"
   },
   "source": [
    "## Train"
   ]
  },
  {
   "cell_type": "markdown",
   "metadata": {
    "colab_type": "text",
    "id": "QpNV529HwzdJ"
   },
   "source": [
    "### Loss Function  "
   ]
  },
  {
   "cell_type": "code",
   "execution_count": 28,
   "metadata": {
    "colab": {},
    "colab_type": "code",
    "id": "MEefUZ5fwv7_"
   },
   "outputs": [],
   "source": [
    "criterion = nn.CrossEntropyLoss()"
   ]
  },
  {
   "cell_type": "markdown",
   "metadata": {
    "colab_type": "text",
    "id": "3na1WwvJxCME"
   },
   "source": [
    "### Trian Function"
   ]
  },
  {
   "cell_type": "code",
   "execution_count": 29,
   "metadata": {
    "colab": {},
    "colab_type": "code",
    "id": "ubLnvf7-xEvU"
   },
   "outputs": [],
   "source": [
    "def train(model, train_loader, valid_loader,n_epochs, optimizer, loss_function, model_file):\n",
    "    train_losses = []\n",
    "    train_accs = []\n",
    "\n",
    "    valid_losses = []\n",
    "    valid_accs = []\n",
    "    min_valid_loss =  0.504712#np.Inf epoch 4\n",
    "    for e in range(1,n_epochs+1):\n",
    "  \n",
    "        epoch_start = time()\n",
    "        batch_number = 0\n",
    "\n",
    "        train_loss = 0\n",
    "        train_acc = 0\n",
    "        batch_start = time()\n",
    "        model.train()   \n",
    "        for x,y in train_loader:\n",
    "            batch_number += 1\n",
    "            if torch.cuda.is_available() :\n",
    "                x, y = x.cuda(), y.cuda()\n",
    "            y = y.long()\n",
    "#             print(x.shape)\n",
    "\n",
    "            optimizer.zero_grad()\n",
    "            bs, ncrops, c, h, w = x.size()\n",
    "            result = model(x.view(-1, c, h, w)) # fuse batch size and ncrops\n",
    "            y_ = result.view(bs, ncrops, -1).mean(1)\n",
    "#             y_ = model.forward(x)\n",
    "\n",
    "#             loss, y_,y= loss_function(y_.cpu(),y.cpu())\n",
    "#             y = torch.argmax(y,dim=1)\n",
    "\n",
    "            y = y.squeeze()\n",
    "            y_ = y_.view((y_.shape[0],y_.shape[1])) \n",
    "#             print(y.shape,y_.shape)\n",
    "            loss = criterion(y_,y)\n",
    "            loss.backward()\n",
    "            optimizer.step()\n",
    "            train_loss += loss.item()\n",
    "\n",
    "            ps = torch.exp(y_)\n",
    "            top_p, top_class = ps.topk(1, dim=1)\n",
    "            equals = top_class == y.view(*top_class.shape)\n",
    "            train_acc += torch.mean(equals.type(torch.FloatTensor))\n",
    "            delay = time()-batch_start\n",
    "#             print(\"batch size : {}\\nbatch per total no of batches : {}/{} \\\n",
    "#             \\ntrain batch finished : {:.3f} % \\ntime left : {}s \\ndelay : {}s \\\n",
    "#             \\nloss : {}\\n\\n\".format(len(x), batch_number, len(train_loader),\n",
    "#             batch_number/len(train_loader) *100., delay * (len(train_loader)-\\\n",
    "#             batch_number), delay, loss.item()))\n",
    "            \n",
    "            batch_start = time()\n",
    "        \n",
    "        valid_loss = 0\n",
    "        valid_acc = 0\n",
    "        model.eval()\n",
    "\n",
    "        with torch.no_grad():\n",
    "            batch_number = 0\n",
    "            batch_start = time()\n",
    "            acc = 0\n",
    "            for x,y in valid_loader:\n",
    "                batch_number += 1\n",
    "                if torch.cuda.is_available() :\n",
    "                    x, y = x.cuda(), y.cuda()\n",
    "                y = y.long()\n",
    "#                 x = x.squeeze()\n",
    "#                 y = y.squeeze()\n",
    "                bs, ncrops, c, h, w = x.size()\n",
    "                result = model(x.view(-1, c, h, w)) # fuse batch size and ncrops\n",
    "                y_ = result.view(bs, ncrops, -1).mean(1)\n",
    "#                 y_ = model.forward(x)\n",
    "\n",
    "#                 loss, y_,y= loss_function(y_.cpu(),y.cpu())\n",
    "                y = y.squeeze()\n",
    "                y_ = y_.view((y_.shape[0],y_.shape[1]))   \n",
    "                loss = criterion(y_,y)\n",
    "    \n",
    "                valid_loss += loss.item()\n",
    "                \n",
    "               \n",
    "                ps = torch.exp(y_)\n",
    "                top_p, top_class = ps.topk(1, dim=1)\n",
    "                equals = top_class == y.view(*top_class.shape)\n",
    "                valid_acc += torch.mean(equals.type(torch.FloatTensor))\n",
    "                delay = time()-batch_start\n",
    "      \n",
    "#                 print(\"batch size : {}\\nbatch per total no of batches : {}/{} \\\n",
    "#                 \\ntrain batch finished : {:.3f} % \\ntime lift : {} s\\\n",
    "#                 \\ndelay : {}s \\nloss : {}\\n\\n\".format(len(x),\n",
    "#                 batch_number, len(valid_loader), batch_number/len(valid_loader)\\\n",
    "#                       *100., delay * (len(valid_loader)-batch_number), delay,\\\n",
    "#                                                       loss.item()))\n",
    "                batch_start = time()\n",
    "                \n",
    "\n",
    "        train_loss /= len(train_loader)     \n",
    "        train_acc /= len(train_loader)  \n",
    "\n",
    "        valid_loss /= len(valid_loader)\n",
    "        valid_acc /= len(valid_loader)\n",
    "\n",
    "        train_losses.append(train_loss)\n",
    "        train_accs.append(train_acc)\n",
    "        valid_losses.append(valid_loss)\n",
    "        valid_accs.append(valid_acc)\n",
    "\n",
    "        if min_valid_loss > valid_loss:\n",
    "            print ('Validation loss decreased ({:.6f} --> {:.6f}). \\\n",
    "            Saving model ...\\n'.format(min_valid_loss, valid_loss))\n",
    "            min_valid_loss = valid_loss\n",
    "            torch.save(model.state_dict(), model_file)\n",
    "        \n",
    "        delay = time() - epoch_start\n",
    "\n",
    "\n",
    "        print(\"Epoch : {} \\nTrain Finished : {:.3f} %\\nTime Left : {:.3f} s\\\n",
    "        \\nTraining Loss : {:.6f} \\nValidation Loss : {:.6f} \\nTrain Accuracy :\\\n",
    "        {:.3f} %\\nValidation Accuracy : {:.6f} %\\nDelay : {:.6f} s \\n\\n\".format(\n",
    "            e,e / n_epochs * 100., delay * (n_epochs - e) ,train_loss, valid_loss\n",
    "            ,train_acc * 100.,valid_acc * 100.,delay))\n",
    "        \n",
    "    return train_losses, train_accs, valid_losses, valid_accs\n",
    "\n",
    "\n"
   ]
  },
  {
   "cell_type": "markdown",
   "metadata": {
    "colab_type": "text",
    "id": "fCatYX6uxPtB"
   },
   "source": [
    "## Displaying Graph"
   ]
  },
  {
   "cell_type": "code",
   "execution_count": 30,
   "metadata": {
    "colab": {},
    "colab_type": "code",
    "id": "b64qD6aMxRBv"
   },
   "outputs": [],
   "source": [
    "def display_graph(train_losses, valid_losses, train_accs, valid_accs):\n",
    "    plt.plot(train_losses, label='Training loss')\n",
    "    plt.plot(valid_losses, label='Validation loss')\n",
    "    plt.plot(train_accs, label='Train accuracy')\n",
    "    plt.plot(valid_accs, label='Validation accuracy')\n",
    "    plt.legend(frameon=False)"
   ]
  },
  {
   "cell_type": "markdown",
   "metadata": {
    "colab_type": "text",
    "id": "MJxezI3BxGDq"
   },
   "source": [
    "## Test"
   ]
  },
  {
   "cell_type": "code",
   "execution_count": 31,
   "metadata": {
    "colab": {},
    "colab_type": "code",
    "id": "3x5P_GBcxHsG"
   },
   "outputs": [],
   "source": [
    "def test(model, test_loader, loss_function):\n",
    "   \n",
    "    test_loss = 0\n",
    "    test_acc = 0\n",
    "    \n",
    "    model.eval()\n",
    "\n",
    "    with torch.no_grad():\n",
    "\n",
    "        batch_number = 0\n",
    "        batch_start = time()\n",
    "        for x,y in test_loader:\n",
    "            batch_number += 1\n",
    "            y = y.long()\n",
    "            if torch.cuda.is_available() :\n",
    "                x, y = x.cuda(), y.cuda()\n",
    "#             x = x.squeeze()\n",
    "#             y = y.squeeze()\n",
    "            y_ = model.forward(x)\n",
    "  \n",
    "            y = y.squeeze()\n",
    "            y_ = y_.view((y_.shape[0],y_.shape[1]))   \n",
    "            loss = criterion(y_,y)\n",
    "            test_loss += loss.item()\n",
    "\n",
    "            ps = torch.exp(y_)\n",
    "            top_p, top_class = ps.topk(1, dim=1)\n",
    "            equals = top_class == y.view(*top_class.shape)\n",
    "\n",
    "            test_acc += torch.mean(equals.type(torch.FloatTensor))\n",
    "            delay = time()-batch_start\n",
    "\n",
    "            print(\"batch size : {}\\nbatch per total no of batches : {}/{} \\\n",
    "            \\ntrain batch finished : {:.3f} % \\ntime lift : {} s\\\n",
    "            \\ndelay : {}s \\nloss : {}\\n\\n\".format(len(x),\n",
    "            batch_number, len(test_loader), batch_number/len(test_loader)\\\n",
    "                  *100., delay * (len(test_loader)-batch_number), delay,\\\n",
    "                                                  loss.item()))\n",
    "            batch_start = time()\n",
    "            \n",
    "    return test_loss/len(test_loader), test_acc/len(test_loader)"
   ]
  },
  {
   "cell_type": "markdown",
   "metadata": {
    "colab_type": "text",
    "id": "bbgi8JldxSdZ"
   },
   "source": [
    "## Confusion Matrix"
   ]
  },
  {
   "cell_type": "code",
   "execution_count": 32,
   "metadata": {
    "colab": {},
    "colab_type": "code",
    "id": "G6kIZIlExTGt"
   },
   "outputs": [],
   "source": [
    "def plot_confusion_matrix(y_true, y_pred, classes,\n",
    "                          normalize=False,\n",
    "                          title=None,\n",
    "                          cmap=plt.cm.Blues):\n",
    "    \"\"\"\n",
    "    This function prints and plots the confusion matrix.\n",
    "    Normalization can be applied by setting `normalize=True`.\n",
    "    \"\"\"\n",
    "    if not title:\n",
    "        if normalize:\n",
    "            title = 'Normalized confusion matrix'\n",
    "        else:\n",
    "            title = 'Confusion matrix, without normalization'\n",
    "\n",
    "    # Compute confusion matrix\n",
    "    cm = confusion_matrix(y_true, y_pred)\n",
    "    # Only use the labels that appear in the data\n",
    "    classes = classes[unique_labels(y_true, y_pred)]\n",
    "    if normalize:\n",
    "        cm = cm.astype('float') / cm.sum(axis=1)[:, np.newaxis]\n",
    "        print(\"Normalized confusion matrix\")\n",
    "    else:\n",
    "        print('Confusion matrix, without normalization')\n",
    "\n",
    "    print(cm)\n",
    "\n",
    "    fig, ax = plt.subplots()\n",
    "    im = ax.imshow(cm, interpolation='nearest', cmap=cmap)\n",
    "    ax.figure.colorbar(im, ax=ax)\n",
    "    # We want to show all ticks...\n",
    "    ax.set(xticks=np.arange(cm.shape[1]),\n",
    "           yticks=np.arange(cm.shape[0]),\n",
    "           # ... and label them with the respective list entries\n",
    "           xticklabels=classes, yticklabels=classes,\n",
    "           title=title,\n",
    "           ylabel='True label',\n",
    "           xlabel='Predicted label')\n",
    "\n",
    "    # Rotate the tick labels and set their alignment.\n",
    "    plt.setp(ax.get_xticklabels(), rotation=45, ha=\"right\",\n",
    "             rotation_mode=\"anchor\")\n",
    "\n",
    "    # Loop over data dimensions and create text annotations.\n",
    "    fmt = '.2f' if normalize else 'd'\n",
    "    thresh = cm.max() / 2.\n",
    "    for i in range(cm.shape[0]):\n",
    "        for j in range(cm.shape[1]):\n",
    "            ax.text(j, i, format(cm[i, j], fmt),\n",
    "                    ha=\"center\", va=\"center\",\n",
    "                    color=\"white\" if cm[i, j] > thresh else \"black\")\n",
    "    fig.tight_layout()\n",
    "    return ax"
   ]
  },
  {
   "cell_type": "markdown",
   "metadata": {
    "colab_type": "text",
    "id": "YD34IY8KxNg_"
   },
   "source": [
    "## Predict"
   ]
  },
  {
   "cell_type": "code",
   "execution_count": 33,
   "metadata": {
    "colab": {},
    "colab_type": "code",
    "id": "1ZfvEkkbxPTB"
   },
   "outputs": [],
   "source": [
    "def predict(model, data, data_mapping):\n",
    "    predictions = model(data)\n",
    "    for predict in predictions:\n",
    "        ps = torch.exp(predict)\n",
    "        top_p, top_class = ps.topk(1, dim=1)\n",
    "        print(top_p)"
   ]
  },
  {
   "cell_type": "markdown",
   "metadata": {
    "colab_type": "text",
    "id": "0zFMIwzLxUXG"
   },
   "source": [
    "# Models"
   ]
  },
  {
   "cell_type": "markdown",
   "metadata": {
    "colab_type": "text",
    "id": "ZjobKGdIxcC6"
   },
   "source": [
    "## Gender"
   ]
  },
  {
   "cell_type": "markdown",
   "metadata": {
    "colab_type": "text",
    "id": "8TXPhyhZxgmC"
   },
   "source": [
    "### Data"
   ]
  },
  {
   "cell_type": "markdown",
   "metadata": {
    "colab_type": "text",
    "id": "dz9Y2cCYxmNG"
   },
   "source": [
    "**Loading Data**"
   ]
  },
  {
   "cell_type": "code",
   "execution_count": 34,
   "metadata": {
    "colab": {},
    "colab_type": "code",
    "id": "bnx7P1Z2O8k4"
   },
   "outputs": [],
   "source": [
    "gender_images_paths = imdb.images_paths\n",
    "gender_labels =   imdb.labels"
   ]
  },
  {
   "cell_type": "code",
   "execution_count": 45,
   "metadata": {
    "colab": {},
    "colab_type": "code",
    "id": "RtTcdba9xbw3"
   },
   "outputs": [],
   "source": [
    "#gender_images_paths = imfdb.images_paths + imdb.images_paths + wiki.images_paths\n",
    "#gender_labels =  np.array(imfdb.labels[\"Gender\"].tolist() + imdb.labels.tolist() + wiki.labels.tolist())\n",
    "gender_images_paths = imdb.images_paths + wiki.images_paths\n",
    "gender_labels =  np.array(imdb.labels.tolist() + wiki.labels.tolist())"
   ]
  },
  {
   "cell_type": "code",
   "execution_count": null,
   "metadata": {
    "colab": {},
    "colab_type": "code",
    "id": "6lz4S2tFevWe"
   },
   "outputs": [],
   "source": [
    "# gender_images_paths = wiki.images_paths[:3000]\n",
    "# gender_labels =  np.array(wiki.labels.tolist())[:3000]"
   ]
  },
  {
   "cell_type": "code",
   "execution_count": 46,
   "metadata": {
    "colab": {
     "base_uri": "https://localhost:8080/",
     "height": 50
    },
    "colab_type": "code",
    "id": "47zU4ZQycYEu",
    "outputId": "b8e7a723-14bf-4b0f-b90a-76de7b7f8b94"
   },
   "outputs": [
    {
     "name": "stdout",
     "output_type": "stream",
     "text": [
      "No. images paths 511946\n",
      "No. labels 511946\n"
     ]
    }
   ],
   "source": [
    "print(\"No. images paths {}\".format(len(gender_images_paths)))\n",
    "print(\"No. labels {}\".format(len(gender_labels)))\n",
    "assert len(gender_labels) == len(gender_images_paths)"
   ]
  },
  {
   "cell_type": "markdown",
   "metadata": {
    "colab_type": "text",
    "id": "DylfhTjFxvxI"
   },
   "source": [
    "**Shuffle & Spliting Data** "
   ]
  },
  {
   "cell_type": "code",
   "execution_count": 47,
   "metadata": {
    "colab": {},
    "colab_type": "code",
    "id": "9hLPWMHsbj9s"
   },
   "outputs": [],
   "source": [
    "valid_size = 0.02\n",
    "test_size = 0.02\n",
    "\n",
    "train_dataset = ImageDataSets(train_transforms)\n",
    "train_dataset.images_paths = gender_images_paths\n",
    "train_dataset.labels = gender_labels\n",
    "\n",
    "test_dataset = ImageDataSets(test_transforms)\n",
    "test_dataset.images_paths = gender_images_paths\n",
    "test_dataset.labels = gender_labels\n",
    "\n",
    "train_size = len(train_dataset)\n",
    "\n",
    "indices = list(range(train_size))\n",
    "np.random.shuffle(indices)\n",
    "\n",
    "valid_split_size = int(valid_size * train_size)\n",
    "test_split_size = int(test_size * train_size)\n",
    "\n",
    "train_indices, test_indices, valid_indices = indices[test_split_size + valid_split_size:], indices[:test_split_size], indices[test_split_size:test_split_size + valid_split_size]\n",
    "\n",
    "train_sampler = SubsetRandomSampler(train_indices)\n",
    "valid_sampler = SubsetRandomSampler(valid_indices)\n",
    "test_sampler = SubsetRandomSampler(test_indices)\n",
    "\n",
    "batch_size = 32"
   ]
  },
  {
   "cell_type": "markdown",
   "metadata": {
    "colab_type": "text",
    "id": "0j5LtsAkx1Z8"
   },
   "source": [
    "**Data Loaders**"
   ]
  },
  {
   "cell_type": "code",
   "execution_count": 48,
   "metadata": {
    "colab": {},
    "colab_type": "code",
    "id": "7j-hrAlta0gP"
   },
   "outputs": [],
   "source": [
    "train_loader = DataLoader(train_dataset,batch_size=batch_size,sampler=train_sampler)\n",
    "valid_loader = DataLoader(train_dataset,batch_size=batch_size,sampler=valid_sampler)\n",
    "test_loader = DataLoader(test_dataset,batch_size=batch_size,sampler=valid_sampler)"
   ]
  },
  {
   "cell_type": "markdown",
   "metadata": {
    "colab_type": "text",
    "id": "w3woNa4xx4-e"
   },
   "source": [
    "**Displaying Data**"
   ]
  },
  {
   "cell_type": "code",
   "execution_count": 50,
   "metadata": {
    "colab": {
     "base_uri": "https://localhost:8080/",
     "height": 288
    },
    "colab_type": "code",
    "id": "Y2RMno8IT2pz",
    "outputId": "99d35ab1-dc21-4304-dce7-d59c7927955a"
   },
   "outputs": [
    {
     "data": {
      "image/png": "[encoded data removed]",
      "text/plain": [
       "<Figure size 1800x288 with 20 Axes>"
      ]
     },
     "metadata": {},
     "output_type": "display_data"
    }
   ],
   "source": [
    "dataiter = iter(train_loader)\n",
    "displaying_data(dataiter,{1:'Male',0:\"Female\"})"
   ]
  },
  {
   "cell_type": "code",
   "execution_count": null,
   "metadata": {
    "colab": {
     "base_uri": "https://localhost:8080/",
     "height": 288
    },
    "colab_type": "code",
    "id": "1cd9p7NDYhc5",
    "outputId": "1b0ae9a5-7560-4e35-9bd0-331e32de6f95"
   },
   "outputs": [],
   "source": [
    "dataiter = iter(valid_loader)\n",
    "displaying_data(dataiter,{1:'Male',0:\"Female\"})"
   ]
  },
  {
   "cell_type": "code",
   "execution_count": null,
   "metadata": {
    "colab": {
     "base_uri": "https://localhost:8080/",
     "height": 288
    },
    "colab_type": "code",
    "id": "9VrhOfogx9uF",
    "outputId": "026bd17d-4c27-4779-978f-dd62d31ba192"
   },
   "outputs": [],
   "source": [
    "dataiter = iter(test_loader)\n",
    "displaying_data(dataiter,{1:'Male',0:\"Female\"})"
   ]
  },
  {
   "cell_type": "markdown",
   "metadata": {
    "colab_type": "text",
    "id": "S8xavPYC-tYN"
   },
   "source": [
    "### Loss Function"
   ]
  },
  {
   "cell_type": "code",
   "execution_count": null,
   "metadata": {
    "colab": {},
    "colab_type": "code",
    "id": "F08HjnrcFpAs"
   },
   "outputs": [],
   "source": [
    "def loss_fun(y_, y):\n",
    "    y = torch.argmax(y,dim=1)\n",
    "    y_ = y_.view((y_.shape[0],y_.shape[1]))\n",
    "    loss = nn.CrossEntropyLoss()(y_.cpu(),y.cpu())\n",
    "    \n",
    "    return loss,y_,y"
   ]
  },
  {
   "cell_type": "markdown",
   "metadata": {
    "colab_type": "text",
    "id": "LAqQHP-q-1nI"
   },
   "source": [
    "### Define Model"
   ]
  },
  {
   "cell_type": "code",
   "execution_count": null,
   "metadata": {
    "colab": {},
    "colab_type": "code",
    "id": "byLTvZc2CMhf"
   },
   "outputs": [],
   "source": [
    "model = Model(2)\n",
    "model.load_state_dict(torch.load(\"/content/drive/My Drive/Models/gender.pth\"))\n",
    "model.cuda();"
   ]
  },
  {
   "cell_type": "markdown",
   "metadata": {
    "colab_type": "text",
    "id": "bJ0JRaat_JGv"
   },
   "source": [
    "### Define Optimizer"
   ]
  },
  {
   "cell_type": "code",
   "execution_count": null,
   "metadata": {
    "colab": {},
    "colab_type": "code",
    "id": "y6dRiPD5tENM"
   },
   "outputs": [],
   "source": [
    "optimizer = optim.Adam(model.parameters(), lr=0.01)"
   ]
  },
  {
   "cell_type": "markdown",
   "metadata": {
    "colab_type": "text",
    "id": "_oXygaGcx8tT"
   },
   "source": [
    "### Train"
   ]
  },
  {
   "cell_type": "markdown",
   "metadata": {
    "colab_type": "text",
    "id": "oOPKgPUC_PK-"
   },
   "source": [
    "**Path for saving model**"
   ]
  },
  {
   "cell_type": "code",
   "execution_count": null,
   "metadata": {
    "colab": {},
    "colab_type": "code",
    "id": "9J_mZ3uf7JD_"
   },
   "outputs": [],
   "source": [
    "model_file = \"/content/drive/My Drive/Models/gender.pth\""
   ]
  },
  {
   "cell_type": "code",
   "execution_count": null,
   "metadata": {
    "colab": {},
    "colab_type": "code",
    "id": "8mqXiwbRI57i"
   },
   "outputs": [],
   "source": [
    "train_losses, train_accs, valid_losses, valid_accs = train(model, train_loader, valid_loader, 25, optimizer, None, model_file)"
   ]
  },
  {
   "cell_type": "markdown",
   "metadata": {
    "colab_type": "text",
    "id": "nvMsyoqcyDxM"
   },
   "source": [
    "### Displaying Graph"
   ]
  },
  {
   "cell_type": "code",
   "execution_count": null,
   "metadata": {
    "colab": {},
    "colab_type": "code",
    "id": "BQhywAJDBr8p"
   },
   "outputs": [],
   "source": [
    "display_graph(train_losses, valid_losses, train_accs, valid_accs)"
   ]
  },
  {
   "cell_type": "markdown",
   "metadata": {
    "colab_type": "text",
    "id": "ZUmzN3MnyAIr"
   },
   "source": [
    "### Test"
   ]
  },
  {
   "cell_type": "code",
   "execution_count": null,
   "metadata": {
    "colab": {
     "base_uri": "https://localhost:8080/",
     "height": 54
    },
    "colab_type": "code",
    "id": "F-9x9xB8CsbS",
    "outputId": "66a83ef9-ec4c-4159-8fd4-16014f82c5da"
   },
   "outputs": [],
   "source": [
    "test_loss, test_acc# = test(model, test_loader, loss_fun)"
   ]
  },
  {
   "cell_type": "markdown",
   "metadata": {
    "colab_type": "text",
    "id": "sZG1RqAzyNuY"
   },
   "source": [
    "### Confusion Matrix"
   ]
  },
  {
   "cell_type": "code",
   "execution_count": null,
   "metadata": {
    "colab": {},
    "colab_type": "code",
    "id": "W-ihqO5KooFH"
   },
   "outputs": [],
   "source": [
    "images, labels = iter(valid_loader).next()\n",
    "\n",
    "y_true = labels\n",
    "y_pred = model(images.cuda())\n",
    "\n",
    "y_true = torch.argmax(y_true,dim=1)\n",
    "y_pred = y_pred.view((y_pred.shape[0],y_pred.shape[1]))\n",
    "y_pred = torch.argmax(y_pred,dim=1)\n"
   ]
  },
  {
   "cell_type": "code",
   "execution_count": null,
   "metadata": {
    "colab": {},
    "colab_type": "code",
    "id": "rQXQKSzLFHfA"
   },
   "outputs": [],
   "source": [
    "plot_confusion_matrix(y_true.cpu(), y_pred.cpu(), np.array(['female','male']),\n",
    "                          normalize=False,\n",
    "                          title='None',\n",
    "                          cmap=plt.cm.Blues)"
   ]
  },
  {
   "cell_type": "markdown",
   "metadata": {
    "colab_type": "text",
    "id": "_evW-P8HGe0f"
   },
   "source": [
    "### Predict"
   ]
  },
  {
   "cell_type": "code",
   "execution_count": null,
   "metadata": {
    "colab": {},
    "colab_type": "code",
    "id": "CzIq-F6EGsiF"
   },
   "outputs": [],
   "source": [
    "predict(model, iter(valid_loader).next()[0].cuda(), {1:'Male',0:\"Female\"})"
   ]
  },
  {
   "cell_type": "markdown",
   "metadata": {
    "colab_type": "text",
    "id": "WdxJhPliyex-"
   },
   "source": [
    "## Emotion"
   ]
  },
  {
   "cell_type": "markdown",
   "metadata": {
    "colab_type": "text",
    "id": "LyeM4-Mkylvt"
   },
   "source": [
    "### Data"
   ]
  },
  {
   "cell_type": "markdown",
   "metadata": {
    "colab_type": "text",
    "id": "OVF_G4Kjyvwa"
   },
   "source": [
    "**Loading Data**"
   ]
  },
  {
   "cell_type": "code",
   "execution_count": null,
   "metadata": {
    "colab": {},
    "colab_type": "code",
    "id": "8UlXbmdqJZU5"
   },
   "outputs": [],
   "source": [
    "emotion_images_paths = fer.images_paths\n",
    "emotion_labels = fer.labels"
   ]
  },
  {
   "cell_type": "code",
   "execution_count": null,
   "metadata": {
    "colab": {},
    "colab_type": "code",
    "id": "jI6MBFVS408p"
   },
   "outputs": [],
   "source": [
    "# emotion_images_paths = imfdb.images_paths + jaffe.images_paths \n",
    "# emotion_labels = np.array(imfdb.labels[\"Expressions\"].tolist() + jaffe.labels.tolist())"
   ]
  },
  {
   "cell_type": "code",
   "execution_count": null,
   "metadata": {
    "colab": {
     "base_uri": "https://localhost:8080/",
     "height": 50
    },
    "colab_type": "code",
    "id": "Wrp51QLk5BtZ",
    "outputId": "0f3a52d4-6b31-49a1-db52-efadc09f7ab7"
   },
   "outputs": [],
   "source": [
    "print(\"No. images paths {}\".format(len(emotion_images_paths)))\n",
    "print(\"No. labels {}\".format(len(emotion_labels)))\n",
    "assert len(emotion_labels) == len(emotion_images_paths)"
   ]
  },
  {
   "cell_type": "markdown",
   "metadata": {
    "colab_type": "text",
    "id": "xQuoNm0T410c"
   },
   "source": [
    "**Shuffle & Spliting Data** "
   ]
  },
  {
   "cell_type": "code",
   "execution_count": null,
   "metadata": {
    "colab": {},
    "colab_type": "code",
    "id": "ETo77OKA43OI"
   },
   "outputs": [],
   "source": [
    "valid_size = 0.03\n",
    "test_size = 0.03\n",
    "\n",
    "train_dataset = ImageDataSets(train_transforms)\n",
    "train_dataset.images_paths = emotion_images_paths\n",
    "train_dataset.labels = emotion_labels\n",
    "\n",
    "test_dataset = ImageDataSets(test_transforms)\n",
    "test_dataset.images_paths = emotion_images_paths\n",
    "test_dataset.labels = emotion_labels\n",
    "\n",
    "train_size = len(train_dataset)\n",
    "\n",
    "indices = list(range(train_size))\n",
    "np.random.shuffle(indices)\n",
    "\n",
    "valid_split_size = int(valid_size * train_size)\n",
    "test_split_size = int(test_size * train_size)\n",
    "\n",
    "train_indices, test_indices, valid_indices = indices[test_split_size + valid_split_size:], indices[:test_split_size], indices[test_split_size:test_split_size + valid_split_size]\n",
    "\n",
    "train_sampler = SubsetRandomSampler(train_indices)\n",
    "valid_sampler = SubsetRandomSampler(valid_indices)\n",
    "test_sampler = SubsetRandomSampler(test_indices)\n",
    "\n",
    "batch_size = 32"
   ]
  },
  {
   "cell_type": "markdown",
   "metadata": {
    "colab_type": "text",
    "id": "eYxa0vWV5LcU"
   },
   "source": [
    "**Data Loaders**"
   ]
  },
  {
   "cell_type": "code",
   "execution_count": null,
   "metadata": {
    "colab": {},
    "colab_type": "code",
    "id": "3gUg-rFI5P9J"
   },
   "outputs": [],
   "source": [
    "train_loader = DataLoader(train_dataset,batch_size=batch_size,sampler=train_sampler)\n",
    "valid_loader = DataLoader(train_dataset,batch_size=batch_size,sampler=valid_sampler)\n",
    "test_loader = DataLoader(test_dataset,batch_size=batch_size,sampler=valid_sampler)"
   ]
  },
  {
   "cell_type": "markdown",
   "metadata": {
    "colab_type": "text",
    "id": "tYVElTK8y2AD"
   },
   "source": [
    "**Displaying Data**"
   ]
  },
  {
   "cell_type": "code",
   "execution_count": null,
   "metadata": {
    "colab": {
     "base_uri": "https://localhost:8080/",
     "height": 288
    },
    "colab_type": "code",
    "id": "CDnQiO7_5dF3",
    "outputId": "8b9c6754-0bea-4be5-fc52-6f556141dd54"
   },
   "outputs": [],
   "source": [
    "dataiter = iter(train_loader)\n",
    "displaying_data(dataiter, ['ANGER', 'DISGUST', 'FEAR', 'HAPPINESS', 'NEUTRAL', 'SADNESS', 'SURPRISE'])"
   ]
  },
  {
   "cell_type": "code",
   "execution_count": null,
   "metadata": {
    "colab": {
     "base_uri": "https://localhost:8080/",
     "height": 288
    },
    "colab_type": "code",
    "id": "lYT8n57j5fa8",
    "outputId": "893f7056-a269-4132-9e9b-d31f9d99d257"
   },
   "outputs": [],
   "source": [
    "dataiter = iter(valid_loader)\n",
    "displaying_data(dataiter,['ANGER', 'DISGUST', 'FEAR', 'HAPPINESS', 'NEUTRAL', 'SADNESS', 'SURPRISE'])"
   ]
  },
  {
   "cell_type": "code",
   "execution_count": null,
   "metadata": {
    "colab": {
     "base_uri": "https://localhost:8080/",
     "height": 288
    },
    "colab_type": "code",
    "id": "XSfZq4LG5gne",
    "outputId": "7e90bcbf-ef67-4af9-b19b-0cbf3accc9fa"
   },
   "outputs": [],
   "source": [
    "dataiter = iter(test_loader)\n",
    "displaying_data(dataiter,['ANGER', 'DISGUST', 'FEAR', 'HAPPINESS', 'NEUTRAL', 'SADNESS', 'SURPRISE'])"
   ]
  },
  {
   "cell_type": "markdown",
   "metadata": {
    "colab_type": "text",
    "id": "MeT744_l6QRl"
   },
   "source": [
    "### Define Model\n"
   ]
  },
  {
   "cell_type": "code",
   "execution_count": null,
   "metadata": {
    "colab": {},
    "colab_type": "code",
    "id": "5mhqyyMl6T91"
   },
   "outputs": [],
   "source": [
    "model = Model(7)\n",
    "model.load_state_dict(torch.load(\"/content/drive/My Drive/Models/emotion.pth\"))\n",
    "model.cuda();"
   ]
  },
  {
   "cell_type": "markdown",
   "metadata": {
    "colab_type": "text",
    "id": "de8a8V916WRj"
   },
   "source": [
    "### Define Optimizer"
   ]
  },
  {
   "cell_type": "code",
   "execution_count": null,
   "metadata": {
    "colab": {},
    "colab_type": "code",
    "id": "djFBbngM6Xdk"
   },
   "outputs": [],
   "source": [
    "optimizer = optim.Adam(model.parameters(), lr=0.001)"
   ]
  },
  {
   "cell_type": "markdown",
   "metadata": {
    "colab_type": "text",
    "id": "ndbK4gT46cx9"
   },
   "source": [
    "### Train"
   ]
  },
  {
   "cell_type": "markdown",
   "metadata": {
    "colab_type": "text",
    "id": "At6qbDeX6gMO"
   },
   "source": [
    "**Path for saving model**"
   ]
  },
  {
   "cell_type": "code",
   "execution_count": null,
   "metadata": {
    "colab": {},
    "colab_type": "code",
    "id": "ji0Yz2_96cYQ"
   },
   "outputs": [],
   "source": [
    "model_file = \"/content/drive/My Drive/Models/emotion.pth\""
   ]
  },
  {
   "cell_type": "code",
   "execution_count": null,
   "metadata": {
    "colab": {
     "base_uri": "https://localhost:8080/",
     "height": 162
    },
    "colab_type": "code",
    "id": "JIruTvpm6nXU",
    "outputId": "d8de21fc-9e70-4aa0-c1a2-937d0a11b117"
   },
   "outputs": [],
   "source": [
    "train_losses, train_accs, valid_losses, valid_accs = train(model, train_loader, valid_loader, 10, optimizer, None, model_file)"
   ]
  },
  {
   "cell_type": "markdown",
   "metadata": {
    "colab_type": "text",
    "id": "JyQmPbj_6kyr"
   },
   "source": [
    "### Displaying Graph"
   ]
  },
  {
   "cell_type": "code",
   "execution_count": null,
   "metadata": {
    "colab": {},
    "colab_type": "code",
    "id": "i-VeG5nt5yi3"
   },
   "outputs": [],
   "source": [
    "display_graph(train_losses, valid_losses, train_accs, valid_accs)"
   ]
  },
  {
   "cell_type": "markdown",
   "metadata": {
    "colab_type": "text",
    "id": "CLBXEzSK6S1b"
   },
   "source": [
    "### Test"
   ]
  },
  {
   "cell_type": "code",
   "execution_count": null,
   "metadata": {
    "colab": {
     "base_uri": "https://localhost:8080/",
     "height": 1000
    },
    "colab_type": "code",
    "id": "C-mopLB6adXP",
    "outputId": "caf44586-e2f3-43c2-a50f-9ef52cfd25df"
   },
   "outputs": [],
   "source": [
    "test(model, test_loader, None)"
   ]
  },
  {
   "cell_type": "markdown",
   "metadata": {
    "colab_type": "text",
    "id": "mF78bc1qy1Y5"
   },
   "source": [
    "### Confusion Matrix"
   ]
  },
  {
   "cell_type": "code",
   "execution_count": null,
   "metadata": {
    "colab": {},
    "colab_type": "code",
    "id": "KkCedYRh7DXd"
   },
   "outputs": [],
   "source": [
    "images, labels = iter(test_loader).next()"
   ]
  },
  {
   "cell_type": "code",
   "execution_count": null,
   "metadata": {
    "colab": {},
    "colab_type": "code",
    "id": "GCLVw4eW6-6f"
   },
   "outputs": [],
   "source": [
    "y_true = labels\n",
    "bs, ncrops, c, h, w = images.size()\n",
    "result = model(images.view(-1, c, h, w).cuda()) # fuse batch size and ncrops\n",
    "y_pred = result.view(bs, ncrops, -1).mean(1)\n",
    "# y_pred = model(images.cuda())\n",
    "\n",
    "y_true = torch.argmax(y_true,dim=1)\n",
    "y_pred = y_pred.view((y_pred.shape[0],y_pred.shape[1]))\n",
    "y_pred = torch.argmax(y_pred,dim=1)"
   ]
  },
  {
   "cell_type": "code",
   "execution_count": null,
   "metadata": {
    "colab": {},
    "colab_type": "code",
    "id": "7Um-zTCI7HlN"
   },
   "outputs": [],
   "source": [
    "plot_confusion_matrix(y_true.cpu(), y_pred.cpu(), np.array([ 'ANGER', 'DISGUST', 'FEAR', 'HAPPINESS', 'NEUTRAL', 'SADNESS', 'SURPRISE', ]),\n",
    "                          normalize=False,\n",
    "                          title='None',\n",
    "                          cmap=plt.cm.Blues)"
   ]
  },
  {
   "cell_type": "markdown",
   "metadata": {
    "colab_type": "text",
    "id": "yMG3Cd6PzXGo"
   },
   "source": [
    "## Illumination, Pose, Occlusion, Age and Makeup"
   ]
  },
  {
   "cell_type": "markdown",
   "metadata": {
    "colab_type": "text",
    "id": "lEGthgdgzcSG"
   },
   "source": [
    "### Data"
   ]
  },
  {
   "cell_type": "markdown",
   "metadata": {
    "colab_type": "text",
    "id": "tAZdKJIszgfL"
   },
   "source": [
    "**Loading Data**"
   ]
  },
  {
   "cell_type": "code",
   "execution_count": null,
   "metadata": {
    "colab": {},
    "colab_type": "code",
    "id": "hJrS6xKEsGPB"
   },
   "outputs": [],
   "source": [
    "multiplemodels_images_paths = imfdb.images_paths\n",
    "multiplemodels_labels = np.array(list(zip(imfdb.labels[\"Illumination\"].tolist(), imfdb.labels[\"Pose\"].tolist(), imfdb.labels[\"Occlusion\"].tolist(), imfdb.labels[\"Age\"].tolist(), imfdb.labels[\"Makeup\"].tolist())))"
   ]
  },
  {
   "cell_type": "code",
   "execution_count": null,
   "metadata": {
    "colab": {
     "base_uri": "https://localhost:8080/",
     "height": 50
    },
    "colab_type": "code",
    "id": "PIMCVTNssqHX",
    "outputId": "c343673b-8501-4900-ead2-9c714dce310e"
   },
   "outputs": [],
   "source": [
    "print(\"No. images paths {}\".format(len(multiplemodels_images_paths)))\n",
    "print(\"No. labels {}\".format(len(multiplemodels_labels)))\n",
    "assert len(multiplemodels_labels) == len(multiplemodels_images_paths)"
   ]
  },
  {
   "cell_type": "markdown",
   "metadata": {
    "colab_type": "text",
    "id": "r_FQdQn7znuh"
   },
   "source": [
    "**Shuffle & Spliting Data** "
   ]
  },
  {
   "cell_type": "code",
   "execution_count": null,
   "metadata": {
    "colab": {},
    "colab_type": "code",
    "id": "3afrXS8htCdC"
   },
   "outputs": [],
   "source": [
    "valid_size = 0.1\n",
    "test_size = 0.1\n",
    "\n",
    "train_dataset = ImageDataSets(train_transforms)\n",
    "train_dataset.images_paths = multiplemodels_images_paths\n",
    "train_dataset.labels = multiplemodels_labels\n",
    "\n",
    "test_dataset = ImageDataSets(test_transforms)\n",
    "test_dataset.images_paths = multiplemodels_images_paths\n",
    "test_dataset.labels = multiplemodels_labels\n",
    "\n",
    "train_size = len(train_dataset)\n",
    "\n",
    "indices = list(range(train_size))\n",
    "np.random.shuffle(indices)\n",
    "\n",
    "valid_split_size = int(valid_size * train_size)\n",
    "test_split_size = int(test_size * train_size)\n",
    "\n",
    "train_indices, test_indices, valid_indices = indices[test_split_size + valid_split_size:], indices[:test_split_size], indices[test_split_size:test_split_size + valid_split_size]\n",
    "\n",
    "train_sampler = SubsetRandomSampler(train_indices)\n",
    "valid_sampler = SubsetRandomSampler(valid_indices)\n",
    "test_sampler = SubsetRandomSampler(test_indices)\n",
    "\n",
    "batch_size = 32"
   ]
  },
  {
   "cell_type": "markdown",
   "metadata": {
    "colab_type": "text",
    "id": "XEkDZSdxtZUS"
   },
   "source": [
    "**Data Loaders**"
   ]
  },
  {
   "cell_type": "code",
   "execution_count": null,
   "metadata": {
    "colab": {},
    "colab_type": "code",
    "id": "-u6lmK2HtVIe"
   },
   "outputs": [],
   "source": [
    "train_loader = DataLoader(train_dataset,batch_size=batch_size,sampler=train_sampler)\n",
    "valid_loader = DataLoader(train_dataset,batch_size=batch_size,sampler=valid_sampler)\n",
    "test_loader = DataLoader(test_dataset,batch_size=batch_size,sampler=valid_sampler)"
   ]
  },
  {
   "cell_type": "markdown",
   "metadata": {
    "colab_type": "text",
    "id": "Tj-MZN99zsrC"
   },
   "source": [
    "**Displaying Data**"
   ]
  },
  {
   "cell_type": "code",
   "execution_count": null,
   "metadata": {
    "colab": {},
    "colab_type": "code",
    "id": "kwoQBLXvtkoQ"
   },
   "outputs": [],
   "source": [
    "def displaying_data(dataiter, dic,i):\n",
    "    # obtain one batch of training images\n",
    "    images, labels = dataiter.next()\n",
    "    images = images.numpy() # convert images to numpy for display\n",
    "\n",
    "    # plot the images in the batch, along with the corresponding labels\n",
    "    fig = plt.figure(figsize=(25, 4))\n",
    "    # display 20 images\n",
    "    for idx in np.arange(20):\n",
    "        ax = fig.add_subplot(2, 20/2, idx+1, xticks=[], yticks=[])\n",
    "        try:\n",
    "            imshow(images[idx][0])\n",
    "        except:\n",
    "            imshow(images[idx])\n",
    "\n",
    "        ax.set_title(dic[int(labels[idx][i])])"
   ]
  },
  {
   "cell_type": "code",
   "execution_count": null,
   "metadata": {
    "colab": {
     "base_uri": "https://localhost:8080/",
     "height": 1000
    },
    "colab_type": "code",
    "id": "Bq_FdfYftkfC",
    "outputId": "235661b6-9643-478e-9bf9-809b5377ff92"
   },
   "outputs": [],
   "source": [
    "dataiter = iter(train_loader)\n",
    "displaying_data(dataiter, ['BAD','HIGH','MEDIUM'],0)\n",
    "displaying_data(dataiter, ['DOWN','FRONTAL','LEFT','RIGHT','UP'],1)\n",
    "displaying_data(dataiter, ['BEARD','GLASSES','HAIR','HAND','NONE','ORNAMENTS','OTHERS',],2)\n",
    "displaying_data(dataiter, ['Middle', 'Old', 'Young'],3)\n",
    "displaying_data(dataiter, ['OVER','PARTIAL'],4)"
   ]
  },
  {
   "cell_type": "code",
   "execution_count": null,
   "metadata": {
    "colab": {
     "base_uri": "https://localhost:8080/",
     "height": 1000
    },
    "colab_type": "code",
    "id": "7MuDPZ-PtkAK",
    "outputId": "534b01b7-a06d-41ff-85ff-0790c5ce522b"
   },
   "outputs": [],
   "source": [
    "dataiter = iter(valid_loader)\n",
    "displaying_data(dataiter,['BAD','HIGH','MEDIUM'],0)\n",
    "displaying_data(dataiter,['DOWN','FRONTAL','LEFT','RIGHT','UP'],1)\n",
    "displaying_data(dataiter,['BEARD','GLASSES','HAIR','HAND','NONE','ORNAMENTS','OTHERS',],2)\n",
    "displaying_data(dataiter,['Middle', 'Old', 'Young'],3)\n",
    "displaying_data(dataiter, ['OVER','PARTIAL'],4)"
   ]
  },
  {
   "cell_type": "code",
   "execution_count": null,
   "metadata": {
    "colab": {
     "base_uri": "https://localhost:8080/",
     "height": 1000
    },
    "colab_type": "code",
    "id": "JJJklDtauYzM",
    "outputId": "3bc5dde5-03bd-4316-8895-888d26d90cf4"
   },
   "outputs": [],
   "source": [
    "dataiter = iter(test_loader)\n",
    "displaying_data(dataiter,['BAD','HIGH','MEDIUM'],0)\n",
    "displaying_data(dataiter,['DOWN','FRONTAL','LEFT','RIGHT','UP'],1)\n",
    "displaying_data(dataiter,['BEARD','GLASSES','HAIR','HAND','NONE','ORNAMENTS','OTHERS',],2)\n",
    "displaying_data(dataiter,['Middle', 'Old', 'Young'],3)\n",
    "displaying_data(dataiter, ['OVER','PARTIAL'],4)"
   ]
  },
  {
   "cell_type": "markdown",
   "metadata": {
    "colab_type": "text",
    "id": "nSIKOIiGfyfJ"
   },
   "source": [
    "### Define Model"
   ]
  },
  {
   "cell_type": "code",
   "execution_count": null,
   "metadata": {
    "colab": {},
    "colab_type": "code",
    "id": "IrgWN05sfzlK"
   },
   "outputs": [],
   "source": [
    "class Model(nn.Module):\n",
    "    \n",
    "    def __init__(self):\n",
    "        super(Model, self).__init__()\n",
    "        \n",
    "        self.feature_extractor = Feature_Extractor()\n",
    "        self.illumination = Classifier(3)\n",
    "        self.pose = Classifier(5)\n",
    "        self.occlusion = Classifier(7)\n",
    "        self.age = Classifier(3)\n",
    "        self.makeup = Classifier(2)\n",
    "    \n",
    "    def forward(self,x):\n",
    "        \n",
    "        x = self.feature_extractor(x)\n",
    "        \n",
    "#         feature_extractor = self.feature_extractor(x)\n",
    "        illumination = self.illumination(x)\n",
    "        pose = self.pose(x)\n",
    "        occlusion = self.occlusion(x) \n",
    "        age = self.age(x)\n",
    "        makeup = self.makeup(x) \n",
    "\n",
    "        return illumination, pose, occlusion, age, makeup"
   ]
  },
  {
   "cell_type": "code",
   "execution_count": null,
   "metadata": {
    "colab": {},
    "colab_type": "code",
    "id": "ux6gyXDTiIRp"
   },
   "outputs": [],
   "source": [
    "model = Model()\n",
    "model.load_state_dict(torch.load(\"/content/drive/My Drive/Models/multiplemodels.pth\"))\n",
    "\n",
    "model.cuda();"
   ]
  },
  {
   "cell_type": "markdown",
   "metadata": {
    "colab_type": "text",
    "id": "aK16AtjiipcF"
   },
   "source": [
    "### Define Optimizer"
   ]
  },
  {
   "cell_type": "code",
   "execution_count": null,
   "metadata": {
    "colab": {},
    "colab_type": "code",
    "id": "cGAgDjsaii6P"
   },
   "outputs": [],
   "source": [
    "optimizer = optim.Adam(model.parameters(), lr=0.001)"
   ]
  },
  {
   "cell_type": "markdown",
   "metadata": {
    "colab_type": "text",
    "id": "oURcUg9fjHct"
   },
   "source": [
    "**Path for saving model**"
   ]
  },
  {
   "cell_type": "code",
   "execution_count": null,
   "metadata": {
    "colab": {},
    "colab_type": "code",
    "id": "UAm_FZTFjJNv"
   },
   "outputs": [],
   "source": [
    "model_file = \"/content/drive/My Drive/Models/multiplemodels.pth\""
   ]
  },
  {
   "cell_type": "markdown",
   "metadata": {
    "colab_type": "text",
    "id": "qv974oGbzvcI"
   },
   "source": [
    "### Train"
   ]
  },
  {
   "cell_type": "code",
   "execution_count": null,
   "metadata": {
    "colab": {},
    "colab_type": "code",
    "id": "Z_DCXgl3iVov"
   },
   "outputs": [],
   "source": [
    "def train(model, train_loader, valid_loader,n_epochs, optimizer, loss_function, model_file):\n",
    "    train_losses = []\n",
    "    train_accs = []\n",
    "\n",
    "    valid_losses = []\n",
    "    valid_accs = []\n",
    "    min_valid_loss =  np.Inf\n",
    "    for e in range(1,n_epochs+1):\n",
    "  \n",
    "        epoch_start = time()\n",
    "        batch_number = 0\n",
    "\n",
    "        train_loss = 0\n",
    "        train_acc = 0\n",
    "        batch_start = time()\n",
    "        model.train()   \n",
    "        for x,y in train_loader:\n",
    "            batch_number += 1\n",
    "            if torch.cuda.is_available() :\n",
    "                x, y = x.cuda(), y.cuda()\n",
    "            optimizer.zero_grad()\n",
    "            bs, ncrops, c, h, w = x.size()\n",
    "            result = model(x.view(-1, c, h, w)) \n",
    "            illumination, pose, occlusion, age, makeup = result\n",
    "\n",
    "            illumination = illumination.view(bs, ncrops, -1).mean(1)#view((illumination.shape[0],illumination.shape[1])) \n",
    "            pose = pose.view(bs, ncrops, -1).mean(1)#.view((pose.shape[0],pose.shape[1])) \n",
    "            occlusion = occlusion.view(bs, ncrops, -1).mean(1)#.view((occlusion.shape[0],occlusion.shape[1])) \n",
    "            age = age.view(bs, ncrops, -1).mean(1)#.view((age.shape[0],age.shape[1])) \n",
    "            makeup = makeup.view(bs, ncrops, -1).mean(1)#.view((makeup.shape[0],makeup.shape[1])) \n",
    "\n",
    "            \n",
    "#             y = y.squeeze()\n",
    "#             print(y)\n",
    "\n",
    "            y_illumination, y_pose, y_occlusion, y_age, y_makeup = y[:,0].squeeze(),y[:,1].squeeze(),y[:,2].squeeze(),y[:,3].squeeze(),y[:,4].squeeze()\n",
    "        \n",
    "            loss_illumination = criterion(illumination,y_illumination)\n",
    "            loss_pose = criterion(pose,y_pose)\n",
    "            loss_occlusion = criterion(occlusion,y_occlusion)\n",
    "            loss_age = criterion(age,y_age)\n",
    "            loss_makeup = criterion(makeup,y_makeup)\n",
    "            \n",
    "            loss = loss_illumination + loss_pose + loss_occlusion + loss_age +loss_makeup\n",
    "            \n",
    "            loss.backward()\n",
    "            optimizer.step()\n",
    "            train_loss += loss.item()\n",
    "\n",
    "            ps = torch.exp(illumination)\n",
    "            top_p, top_class = ps.topk(1, dim=1)\n",
    "            equals = top_class == y_illumination.view(*top_class.shape)\n",
    "            train_acc += torch.mean(equals.type(torch.FloatTensor))\n",
    "            \n",
    "            ps = torch.exp(pose)\n",
    "            top_p, top_class = ps.topk(1, dim=1)\n",
    "            equals = top_class == y_pose.view(*top_class.shape)\n",
    "            train_acc += torch.mean(equals.type(torch.FloatTensor))\n",
    "            \n",
    "            ps = torch.exp(occlusion)\n",
    "            top_p, top_class = ps.topk(1, dim=1)\n",
    "            equals = top_class == y_occlusion.view(*top_class.shape)\n",
    "            train_acc += torch.mean(equals.type(torch.FloatTensor))\n",
    "            \n",
    "            ps = torch.exp(age)\n",
    "            top_p, top_class = ps.topk(1, dim=1)\n",
    "            equals = top_class == y_age.view(*top_class.shape)\n",
    "            train_acc += torch.mean(equals.type(torch.FloatTensor))\n",
    "            \n",
    "            ps = torch.exp(makeup)\n",
    "            top_p, top_class = ps.topk(1, dim=1)\n",
    "            equals = top_class == y_makeup.view(*top_class.shape)\n",
    "            train_acc += torch.mean(equals.type(torch.FloatTensor))\n",
    "#             print(illumination.shape,y_illumination.shape)\n",
    "            \n",
    "            \n",
    "            \n",
    "            \n",
    "            delay = time()-batch_start\n",
    "#             print(\"batch size : {}\\nbatch per total no of batches : {}/{} \\\n",
    "#             \\ntrain batch finished : {:.3f} % \\ntime left : {}s \\ndelay : {}s \\\n",
    "#             \\nloss : {}\\n\\n\".format(len(x), batch_number, len(train_loader),\n",
    "#             batch_number/len(train_loader) *100., delay * (len(train_loader)-\\\n",
    "#             batch_number), delay, loss.item()))\n",
    "            \n",
    "            batch_start = time()\n",
    "#         print('aaaaaaa\\n\\n\\n')\n",
    "\n",
    "        valid_loss = 0\n",
    "        valid_acc = 0\n",
    "        model.eval()\n",
    "\n",
    "        with torch.no_grad():\n",
    "            batch_number = 0\n",
    "            batch_start = time()\n",
    "            acc = 0\n",
    "            for x,y in valid_loader:\n",
    "                batch_number += 1\n",
    "                if torch.cuda.is_available() :\n",
    "                    x, y = x.cuda(), y.cuda()\n",
    "#                 x = x.squeeze()\n",
    "#                 y = y.squeeze()\n",
    "\n",
    "                bs, ncrops, c, h, w = x.size()\n",
    "                result = model(x.view(-1, c, h, w)) \n",
    "                illumination, pose, occlusion, age, makeup = result\n",
    "\n",
    "                illumination = illumination.view(bs, ncrops, -1).mean(1)#view((illumination.shape[0],illumination.shape[1])) \n",
    "                pose = pose.view(bs, ncrops, -1).mean(1)#.view((pose.shape[0],pose.shape[1])) \n",
    "                occlusion = occlusion.view(bs, ncrops, -1).mean(1)#.view((occlusion.shape[0],occlusion.shape[1])) \n",
    "                age = age.view(bs, ncrops, -1).mean(1)#.view((age.shape[0],age.shape[1])) \n",
    "                makeup = makeup.view(bs, ncrops, -1).mean(1)#.view((makeup.shape[0],makeup.shape[1])) \n",
    "\n",
    "\n",
    "    #             y = y.squeeze()\n",
    "    #             print(y)\n",
    "\n",
    "                y_illumination, y_pose, y_occlusion, y_age, y_makeup = y[:,0].squeeze(),y[:,1].squeeze(),y[:,2].squeeze(),y[:,3].squeeze(),y[:,4].squeeze()\n",
    "\n",
    "                loss_illumination = criterion(illumination,y_illumination)\n",
    "                loss_pose = criterion(pose,y_pose)\n",
    "                loss_occlusion = criterion(occlusion,y_occlusion)\n",
    "                loss_age = criterion(age,y_age)\n",
    "                loss_makeup = criterion(makeup,y_makeup)\n",
    "\n",
    "                loss = loss_illumination + loss_pose + loss_occlusion + loss_age +loss_makeup\n",
    "\n",
    "                \n",
    "                valid_loss += loss.item()\n",
    "\n",
    "                ps = torch.exp(illumination)\n",
    "                top_p, top_class = ps.topk(1, dim=1)\n",
    "                equals = top_class == y_illumination.view(*top_class.shape)\n",
    "                valid_acc += torch.mean(equals.type(torch.FloatTensor))\n",
    "\n",
    "                ps = torch.exp(pose)\n",
    "                top_p, top_class = ps.topk(1, dim=1)\n",
    "                equals = top_class == y_pose.view(*top_class.shape)\n",
    "                valid_acc += torch.mean(equals.type(torch.FloatTensor))\n",
    "\n",
    "                ps = torch.exp(occlusion)\n",
    "                top_p, top_class = ps.topk(1, dim=1)\n",
    "                equals = top_class == y_occlusion.view(*top_class.shape)\n",
    "                valid_acc += torch.mean(equals.type(torch.FloatTensor))\n",
    "\n",
    "                ps = torch.exp(age)\n",
    "                top_p, top_class = ps.topk(1, dim=1)\n",
    "                equals = top_class == y_age.view(*top_class.shape)\n",
    "                valid_acc += torch.mean(equals.type(torch.FloatTensor))\n",
    "\n",
    "                ps = torch.exp(makeup)\n",
    "                top_p, top_class = ps.topk(1, dim=1)\n",
    "                equals = top_class == y_makeup.view(*top_class.shape)\n",
    "                valid_acc += torch.mean(equals.type(torch.FloatTensor))\n",
    "\n",
    "                delay = time()-batch_start\n",
    "      \n",
    "#                 print(\"batch size : {}\\nbatch per total no of batches : {}/{} \\\n",
    "#                 \\ntrain batch finished : {:.3f} % \\ntime lift : {} s\\\n",
    "#                 \\ndelay : {}s \\nloss : {}\\n\\n\".format(len(x),\n",
    "#                 batch_number, len(valid_loader), batch_number/len(valid_loader)\\\n",
    "#                       *100., delay * (len(valid_loader)-batch_number), delay,\\\n",
    "#                                                       loss.item()))\n",
    "                batch_start = time()\n",
    "                \n",
    "\n",
    "        train_loss /= (len(train_loader) * 5.)     \n",
    "        train_acc /= (len(train_loader)  * 5.)\n",
    "\n",
    "        valid_loss /= (len(valid_loader) * 5.)\n",
    "        valid_acc /= (len(valid_loader) * 5.)\n",
    "\n",
    "        train_losses.append(train_loss)\n",
    "        train_accs.append(train_acc)\n",
    "        valid_losses.append(valid_loss)\n",
    "        valid_accs.append(valid_acc)\n",
    "\n",
    "        if min_valid_loss > valid_loss:\n",
    "            print ('Validation loss decreased ({:.6f} --> {:.6f}). \\\n",
    "            Saving model ...\\n'.format(min_valid_loss, valid_loss))\n",
    "            min_valid_loss = valid_loss\n",
    "            torch.save(model.state_dict(), model_file)\n",
    "        \n",
    "        delay = time() - epoch_start\n",
    "\n",
    "\n",
    "        print(\"Epoch : {} \\nTrain Finished : {:.3f} %\\nTime Left : {:.3f} s\\\n",
    "        \\nTraining Loss : {:.6f} \\nValidation Loss : {:.6f} \\nTrain Accuracy :\\\n",
    "        {:.3f} %\\nValidation Accuracy : {:.6f} %\\nDelay : {:.6f} s \\n\\n\".format(\n",
    "            e,e / n_epochs * 100., delay * (n_epochs - e) ,train_loss, valid_loss\n",
    "            ,train_acc * 100.,valid_acc * 100.,delay))\n",
    "        \n",
    "    return train_losses, train_accs, valid_losses, valid_accs\n",
    "\n",
    "\n"
   ]
  },
  {
   "cell_type": "code",
   "execution_count": null,
   "metadata": {
    "colab": {},
    "colab_type": "code",
    "id": "47YXx5ywirXJ"
   },
   "outputs": [],
   "source": [
    "train_losses, train_accs, valid_losses, valid_accs = train(model, train_loader, valid_loader, 25, optimizer, None, model_file)"
   ]
  },
  {
   "cell_type": "markdown",
   "metadata": {
    "colab_type": "text",
    "id": "JTjSdcLFmzqR"
   },
   "source": [
    "### Displaying Graph\n"
   ]
  },
  {
   "cell_type": "code",
   "execution_count": null,
   "metadata": {
    "colab": {},
    "colab_type": "code",
    "id": "9_eDdPwowA3u"
   },
   "outputs": [],
   "source": [
    "display_graph(train_losses, valid_losses, train_accs, valid_accs)"
   ]
  },
  {
   "cell_type": "markdown",
   "metadata": {
    "colab_type": "text",
    "id": "rwocGLvNwkFv"
   },
   "source": [
    "### Test"
   ]
  },
  {
   "cell_type": "code",
   "execution_count": null,
   "metadata": {
    "colab": {},
    "colab_type": "code",
    "id": "qiF1fRWtwjxF"
   },
   "outputs": [],
   "source": [
    "def test(model, test_loader):\n",
    "   \n",
    "    test_loss = 0\n",
    "    test_acc = 0\n",
    "    model.eval()\n",
    "\n",
    "    with torch.no_grad():\n",
    "        batch_number = 0\n",
    "        batch_start = time()\n",
    "        acc = 0\n",
    "        for x,y in test_loader:\n",
    "            batch_number += 1\n",
    "            if torch.cuda.is_available() :\n",
    "                x, y = x.cuda(), y.cuda()\n",
    "\n",
    "            bs, c, h, w = x.size()\n",
    "            result = model(x) \n",
    "            illumination, pose, occlusion, age, makeup = result\n",
    "\n",
    "            illumination = illumination.view(bs, -1) \n",
    "            pose = pose.view(bs, -1)\n",
    "            occlusion = occlusion.view(bs, -1)\n",
    "            age = age.view(bs, -1)\n",
    "            makeup = makeup.view(bs, -1)\n",
    "\n",
    "            y_illumination, y_pose, y_occlusion, y_age, y_makeup = y[:,0].squeeze(),y[:,1].squeeze(),y[:,2].squeeze(),y[:,3].squeeze(),y[:,4].squeeze()\n",
    "            loss_illumination = criterion(illumination,y_illumination)\n",
    "            loss_pose = criterion(pose,y_pose)\n",
    "            loss_occlusion = criterion(occlusion,y_occlusion)\n",
    "            loss_age = criterion(age,y_age)\n",
    "            loss_makeup = criterion(makeup,y_makeup)\n",
    "\n",
    "            loss = loss_illumination + loss_pose + loss_occlusion + loss_age +loss_makeup\n",
    "\n",
    "\n",
    "            test_loss += loss.item()\n",
    "\n",
    "            ps = torch.exp(illumination)\n",
    "            top_p, top_class = ps.topk(1, dim=1)\n",
    "            equals = top_class == y_illumination.view(*top_class.shape)\n",
    "            test_acc += torch.mean(equals.type(torch.FloatTensor))\n",
    "\n",
    "            ps = torch.exp(pose)\n",
    "            top_p, top_class = ps.topk(1, dim=1)\n",
    "            equals = top_class == y_pose.view(*top_class.shape)\n",
    "            test_acc += torch.mean(equals.type(torch.FloatTensor))\n",
    "\n",
    "            ps = torch.exp(occlusion)\n",
    "            top_p, top_class = ps.topk(1, dim=1)\n",
    "            equals = top_class == y_occlusion.view(*top_class.shape)\n",
    "            test_acc += torch.mean(equals.type(torch.FloatTensor))\n",
    "\n",
    "            ps = torch.exp(age)\n",
    "            top_p, top_class = ps.topk(1, dim=1)\n",
    "            equals = top_class == y_age.view(*top_class.shape)\n",
    "            test_acc += torch.mean(equals.type(torch.FloatTensor))\n",
    "\n",
    "            ps = torch.exp(makeup)\n",
    "            top_p, top_class = ps.topk(1, dim=1)\n",
    "            equals = top_class == y_makeup.view(*top_class.shape)\n",
    "            test_acc += torch.mean(equals.type(torch.FloatTensor))\n",
    "\n",
    "            batch_start = time()\n",
    "            \n",
    "    return test_loss/len(test_loader), test_acc/(len(test_loader)*5)"
   ]
  },
  {
   "cell_type": "code",
   "execution_count": null,
   "metadata": {
    "colab": {
     "base_uri": "https://localhost:8080/",
     "height": 185
    },
    "colab_type": "code",
    "id": "cPubSFX0wQEj",
    "outputId": "8271953a-e0dc-42da-f0f7-e0a0a03cc595"
   },
   "outputs": [],
   "source": [
    "test(model, test_loader)"
   ]
  }
 ],
 "metadata": {
  "accelerator": "GPU",
  "colab": {
   "collapsed_sections": [
    "fzfrJHqYgSPr",
    "wqoga6Vuiw9t",
    "OCLd67oaqDIE",
    "8snn8-n96YUF",
    "ZjobKGdIxcC6"
   ],
   "name": "new Faces.ipynb",
   "provenance": [],
   "version": "0.3.2"
  },
  "hide_input": false,
  "kernelspec": {
   "display_name": "Python 3",
   "language": "python",
   "name": "python3"
  },
  "language_info": {
   "codemirror_mode": {
    "name": "ipython",
    "version": 3
   },
   "file_extension": ".py",
   "mimetype": "text/x-python",
   "name": "python",
   "nbconvert_exporter": "python",
   "pygments_lexer": "ipython3",
   "version": "3.7.3"
  },
  "toc": {
   "base_numbering": 1,
   "nav_menu": {},
   "number_sections": true,
   "sideBar": true,
   "skip_h1_title": true,
   "title_cell": "Table of Contents",
   "title_sidebar": "Contents",
   "toc_cell": false,
   "toc_position": {},
   "toc_section_display": true,
   "toc_window_display": true
  },
  "varInspector": {
   "cols": {
    "lenName": 16,
    "lenType": 16,
    "lenVar": 40
   },
   "kernels_config": {
    "python": {
     "delete_cmd_postfix": "",
     "delete_cmd_prefix": "del ",
     "library": "var_list.py",
     "varRefreshCmd": "print(var_dic_list())"
    },
    "r": {
     "delete_cmd_postfix": ") ",
     "delete_cmd_prefix": "rm(",
     "library": "var_list.r",
     "varRefreshCmd": "cat(var_dic_list()) "
    }
   },
   "types_to_exclude": [
    "module",
    "function",
    "builtin_function_or_method",
    "instance",
    "_Feature"
   ],
   "window_display": false
  }
 },
 "nbformat": 4,
 "nbformat_minor": 1
}
